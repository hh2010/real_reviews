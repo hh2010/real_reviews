{
 "cells": [
  {
   "cell_type": "markdown",
   "metadata": {},
   "source": [
    "## Real Reviews\n",
    "### Optimizing Business Reviews Using NLP"
   ]
  },
  {
   "cell_type": "code",
   "execution_count": 1,
   "metadata": {
    "collapsed": false
   },
   "outputs": [
    {
     "name": "stderr",
     "output_type": "stream",
     "text": [
      "//anaconda/lib/python2.7/site-packages/sklearn/cross_validation.py:44: DeprecationWarning: This module was deprecated in version 0.18 in favor of the model_selection module into which all the refactored classes and functions are moved. Also note that the interface of the new CV iterators are different from that of this module. This module will be removed in 0.20.\n",
      "  \"This module will be removed in 0.20.\", DeprecationWarning)\n"
     ]
    }
   ],
   "source": [
    "import json\n",
    "import pandas as pd\n",
    "import nltk\n",
    "import codecs\n",
    "import sklearn.metrics\n",
    "import pickle\n",
    "import numpy as np\n",
    "import xgboost as xgb\n",
    "import sklearn.feature_extraction.text\n",
    "import sklearn.naive_bayes\n",
    "import sklearn.cross_validation\n",
    "from langdetect import detect\n",
    "from yelpapi import YelpAPI\n",
    "from textblob import TextBlob\n",
    "from sklearn.ensemble import RandomForestClassifier\n",
    "from sklearn.externals import joblib"
   ]
  },
  {
   "cell_type": "code",
   "execution_count": 2,
   "metadata": {
    "collapsed": true
   },
   "outputs": [],
   "source": [
    "# Read the Pickled DataFrame\n",
    "df = pd.read_pickle('data/pandas_200k.pkl')"
   ]
  },
  {
   "cell_type": "code",
   "execution_count": 167,
   "metadata": {
    "collapsed": false
   },
   "outputs": [],
   "source": [
    "# Read the Yelp reviews dataset into a DataFrame\n",
    "# Using 200,000 records to build model\n",
    "# Use 'langdetect' module to only include English reviews\n",
    "#  for our training set\n",
    "# with codecs.open('data/yelp_academic_dataset_review.json', 'r', encoding='utf-8') as f:\n",
    "#     d = [json.loads(f.readline().strip()) for x in range(200000) if detect(json.loads(f.readline().strip())['text'])==\"en\"]"
   ]
  },
  {
   "cell_type": "code",
   "execution_count": 168,
   "metadata": {
    "collapsed": false
   },
   "outputs": [
    {
     "data": {
      "text/plain": [
       "188096"
      ]
     },
     "execution_count": 168,
     "metadata": {},
     "output_type": "execute_result"
    }
   ],
   "source": [
    "# Create the DataFrame for training\n",
    "# df = pd.DataFrame(d)\n",
    "# len(df)"
   ]
  },
  {
   "cell_type": "code",
   "execution_count": 169,
   "metadata": {
    "collapsed": false
   },
   "outputs": [],
   "source": [
    "# Pickle the DataFrame\n",
    "# df.to_pickle('data/pandas_200k.pkl')"
   ]
  },
  {
   "cell_type": "code",
   "execution_count": 3,
   "metadata": {
    "collapsed": false
   },
   "outputs": [
    {
     "data": {
      "text/html": [
       "<div>\n",
       "<table border=\"1\" class=\"dataframe\">\n",
       "  <thead>\n",
       "    <tr style=\"text-align: right;\">\n",
       "      <th></th>\n",
       "      <th>business_id</th>\n",
       "      <th>cool</th>\n",
       "      <th>date</th>\n",
       "      <th>funny</th>\n",
       "      <th>review_id</th>\n",
       "      <th>stars</th>\n",
       "      <th>text</th>\n",
       "      <th>type</th>\n",
       "      <th>useful</th>\n",
       "      <th>user_id</th>\n",
       "    </tr>\n",
       "  </thead>\n",
       "  <tbody>\n",
       "    <tr>\n",
       "      <th>0</th>\n",
       "      <td>2aFiy99vNLklCx3T_tGS9A</td>\n",
       "      <td>0</td>\n",
       "      <td>2010-12-29</td>\n",
       "      <td>0</td>\n",
       "      <td>pXbbIgOXvLuTi_SPs1hQEQ</td>\n",
       "      <td>5</td>\n",
       "      <td>After being on the phone with Verizon Wireless...</td>\n",
       "      <td>review</td>\n",
       "      <td>1</td>\n",
       "      <td>bQ7fQq1otn9hKX-gXRsrgA</td>\n",
       "    </tr>\n",
       "    <tr>\n",
       "      <th>1</th>\n",
       "      <td>2LfIuF3_sX6uwe-IR-P0jQ</td>\n",
       "      <td>1</td>\n",
       "      <td>2014-07-14</td>\n",
       "      <td>0</td>\n",
       "      <td>GP6YEearUWrzPtQYSF1vVg</td>\n",
       "      <td>5</td>\n",
       "      <td>Highly recommended. Went in yesterday looking ...</td>\n",
       "      <td>review</td>\n",
       "      <td>0</td>\n",
       "      <td>aW3ix1KNZAvoM8q-WghA3Q</td>\n",
       "    </tr>\n",
       "    <tr>\n",
       "      <th>2</th>\n",
       "      <td>2LfIuF3_sX6uwe-IR-P0jQ</td>\n",
       "      <td>1</td>\n",
       "      <td>2013-04-28</td>\n",
       "      <td>0</td>\n",
       "      <td>Uf1Ki1yyH_JDKhLvn2e4FQ</td>\n",
       "      <td>5</td>\n",
       "      <td>What a great place! Modern on Melrose has amaz...</td>\n",
       "      <td>review</td>\n",
       "      <td>2</td>\n",
       "      <td>bgl3j8yJcRO-00NkUYsXGQ</td>\n",
       "    </tr>\n",
       "    <tr>\n",
       "      <th>3</th>\n",
       "      <td>2LfIuF3_sX6uwe-IR-P0jQ</td>\n",
       "      <td>0</td>\n",
       "      <td>2012-09-18</td>\n",
       "      <td>0</td>\n",
       "      <td>bRvdVt88MJ_YMTlLbjDLxQ</td>\n",
       "      <td>5</td>\n",
       "      <td>This place is a great for those vintage/mid ce...</td>\n",
       "      <td>review</td>\n",
       "      <td>2</td>\n",
       "      <td>GJ7PTY7huYORFKKg3db3Gw</td>\n",
       "    </tr>\n",
       "    <tr>\n",
       "      <th>4</th>\n",
       "      <td>2LfIuF3_sX6uwe-IR-P0jQ</td>\n",
       "      <td>0</td>\n",
       "      <td>2015-04-05</td>\n",
       "      <td>0</td>\n",
       "      <td>LkP1l7sZIwOV6IKNLqQp_A</td>\n",
       "      <td>5</td>\n",
       "      <td>Great items at a good price.  Helpful, easy to...</td>\n",
       "      <td>review</td>\n",
       "      <td>0</td>\n",
       "      <td>UU0nHQtHPMAfLidk8tOHTg</td>\n",
       "    </tr>\n",
       "    <tr>\n",
       "      <th>5</th>\n",
       "      <td>2LfIuF3_sX6uwe-IR-P0jQ</td>\n",
       "      <td>1</td>\n",
       "      <td>2014-08-23</td>\n",
       "      <td>1</td>\n",
       "      <td>dJguzIfNKtGkKk8ryOPdfQ</td>\n",
       "      <td>5</td>\n",
       "      <td>I'm a local Real Estate agent and have fallen ...</td>\n",
       "      <td>review</td>\n",
       "      <td>1</td>\n",
       "      <td>OvD92wp0-uuFoGLBymwfKQ</td>\n",
       "    </tr>\n",
       "    <tr>\n",
       "      <th>6</th>\n",
       "      <td>2LfIuF3_sX6uwe-IR-P0jQ</td>\n",
       "      <td>0</td>\n",
       "      <td>2014-08-05</td>\n",
       "      <td>0</td>\n",
       "      <td>cNA3oGTmmeRvt10vrvlJOQ</td>\n",
       "      <td>5</td>\n",
       "      <td>Walked into the store and stuck up a conversat...</td>\n",
       "      <td>review</td>\n",
       "      <td>1</td>\n",
       "      <td>AziQIgYIAY6uVw1k8sbtTw</td>\n",
       "    </tr>\n",
       "    <tr>\n",
       "      <th>7</th>\n",
       "      <td>2LfIuF3_sX6uwe-IR-P0jQ</td>\n",
       "      <td>2</td>\n",
       "      <td>2013-11-17</td>\n",
       "      <td>3</td>\n",
       "      <td>klVqdjXPM2aM8Y0RsDCPoA</td>\n",
       "      <td>1</td>\n",
       "      <td>Unfortunately, Yelp does not allow negative st...</td>\n",
       "      <td>review</td>\n",
       "      <td>4</td>\n",
       "      <td>wnzfuir72IZFg5RAPOwWCQ</td>\n",
       "    </tr>\n",
       "    <tr>\n",
       "      <th>8</th>\n",
       "      <td>2LfIuF3_sX6uwe-IR-P0jQ</td>\n",
       "      <td>0</td>\n",
       "      <td>2014-08-23</td>\n",
       "      <td>0</td>\n",
       "      <td>k4xighfFxKv5H-Eic28MNQ</td>\n",
       "      <td>5</td>\n",
       "      <td>I stumbled upon Modern on Melrose earlier in t...</td>\n",
       "      <td>review</td>\n",
       "      <td>0</td>\n",
       "      <td>oKZiDLm0D1PIm1-vRtvONA</td>\n",
       "    </tr>\n",
       "    <tr>\n",
       "      <th>9</th>\n",
       "      <td>0czfEgv9KAD4VlIa7ANPWQ</td>\n",
       "      <td>1</td>\n",
       "      <td>2009-04-10</td>\n",
       "      <td>2</td>\n",
       "      <td>_a7Zu2ZSEGO4bl2gvu7OtQ</td>\n",
       "      <td>5</td>\n",
       "      <td>I love Mint, and even though I'm a guy and the...</td>\n",
       "      <td>review</td>\n",
       "      <td>2</td>\n",
       "      <td>jhhHm3Vk9ZlP21WdY_5R0w</td>\n",
       "    </tr>\n",
       "    <tr>\n",
       "      <th>10</th>\n",
       "      <td>0czfEgv9KAD4VlIa7ANPWQ</td>\n",
       "      <td>4</td>\n",
       "      <td>2007-12-15</td>\n",
       "      <td>5</td>\n",
       "      <td>RAzbLYbgw3tNv8Tu0R7qmQ</td>\n",
       "      <td>3</td>\n",
       "      <td>Hmmm, what to say about Mint.\\n\\nOkay, if you ...</td>\n",
       "      <td>review</td>\n",
       "      <td>5</td>\n",
       "      <td>B7ecAeAIrXg7sgmabS38pg</td>\n",
       "    </tr>\n",
       "    <tr>\n",
       "      <th>11</th>\n",
       "      <td>0czfEgv9KAD4VlIa7ANPWQ</td>\n",
       "      <td>1</td>\n",
       "      <td>2009-02-01</td>\n",
       "      <td>4</td>\n",
       "      <td>dfL5TyVib8uZgxaNMwx7Aw</td>\n",
       "      <td>2</td>\n",
       "      <td>I remember really enjoying browsing through Mi...</td>\n",
       "      <td>review</td>\n",
       "      <td>3</td>\n",
       "      <td>je5k8a3qIOM0VJE5MaxsfQ</td>\n",
       "    </tr>\n",
       "    <tr>\n",
       "      <th>12</th>\n",
       "      <td>0czfEgv9KAD4VlIa7ANPWQ</td>\n",
       "      <td>0</td>\n",
       "      <td>2010-03-01</td>\n",
       "      <td>0</td>\n",
       "      <td>fA2NFb69SvDCsB7WSpY2rw</td>\n",
       "      <td>2</td>\n",
       "      <td>Well.. Well...well..Ive been highly recomended...</td>\n",
       "      <td>review</td>\n",
       "      <td>2</td>\n",
       "      <td>yt1VnahG-MRgU6tswWaUxA</td>\n",
       "    </tr>\n",
       "    <tr>\n",
       "      <th>13</th>\n",
       "      <td>0czfEgv9KAD4VlIa7ANPWQ</td>\n",
       "      <td>0</td>\n",
       "      <td>2011-01-14</td>\n",
       "      <td>0</td>\n",
       "      <td>ezuT8BpvhLITCfbQEWddsw</td>\n",
       "      <td>2</td>\n",
       "      <td>I have been consistently underwhelmed by this ...</td>\n",
       "      <td>review</td>\n",
       "      <td>1</td>\n",
       "      <td>29rUYREQxeFE6LWGnirgew</td>\n",
       "    </tr>\n",
       "    <tr>\n",
       "      <th>14</th>\n",
       "      <td>7GI_V9oLCUGdn2ogqB0IBg</td>\n",
       "      <td>0</td>\n",
       "      <td>2014-04-26</td>\n",
       "      <td>0</td>\n",
       "      <td>ojtDaz6oAxS74VnAAjb4NQ</td>\n",
       "      <td>5</td>\n",
       "      <td>This place is great!  I first came here to fue...</td>\n",
       "      <td>review</td>\n",
       "      <td>0</td>\n",
       "      <td>hMZ3_yBErMi-pFcquyLJWg</td>\n",
       "    </tr>\n",
       "    <tr>\n",
       "      <th>15</th>\n",
       "      <td>4P-vTvE6cncJyUyLh73pxw</td>\n",
       "      <td>0</td>\n",
       "      <td>2014-03-29</td>\n",
       "      <td>0</td>\n",
       "      <td>6-hKBi-6RC3g7Mft0c-6qw</td>\n",
       "      <td>4</td>\n",
       "      <td>This place is a area staple! Been around for y...</td>\n",
       "      <td>review</td>\n",
       "      <td>0</td>\n",
       "      <td>PmgqNO0-5Y3e3UoR61TD7w</td>\n",
       "    </tr>\n",
       "    <tr>\n",
       "      <th>16</th>\n",
       "      <td>4P-vTvE6cncJyUyLh73pxw</td>\n",
       "      <td>0</td>\n",
       "      <td>2012-10-20</td>\n",
       "      <td>0</td>\n",
       "      <td>8Mu56iQ-MYEyivqUVss0XA</td>\n",
       "      <td>4</td>\n",
       "      <td>Don't go here for the decor, but the staff is ...</td>\n",
       "      <td>review</td>\n",
       "      <td>1</td>\n",
       "      <td>SYKPwRhnlKrW6yTvm7oPWg</td>\n",
       "    </tr>\n",
       "    <tr>\n",
       "      <th>17</th>\n",
       "      <td>4P-vTvE6cncJyUyLh73pxw</td>\n",
       "      <td>0</td>\n",
       "      <td>2015-07-27</td>\n",
       "      <td>0</td>\n",
       "      <td>6YC4o9yLc25DK8c6soOlaw</td>\n",
       "      <td>4</td>\n",
       "      <td>If you like fried food and laid back, then thi...</td>\n",
       "      <td>review</td>\n",
       "      <td>0</td>\n",
       "      <td>iSdSNh1hjdE33LOwrFnFrg</td>\n",
       "    </tr>\n",
       "    <tr>\n",
       "      <th>18</th>\n",
       "      <td>4P-vTvE6cncJyUyLh73pxw</td>\n",
       "      <td>0</td>\n",
       "      <td>2013-03-16</td>\n",
       "      <td>0</td>\n",
       "      <td>JYyKOtLznozAlT8P1Foaow</td>\n",
       "      <td>2</td>\n",
       "      <td>I was not impressed with how gross this place ...</td>\n",
       "      <td>review</td>\n",
       "      <td>0</td>\n",
       "      <td>Zmp1Q6Ul9VH3zL02Z5ls_A</td>\n",
       "    </tr>\n",
       "    <tr>\n",
       "      <th>19</th>\n",
       "      <td>4P-vTvE6cncJyUyLh73pxw</td>\n",
       "      <td>6</td>\n",
       "      <td>2011-05-25</td>\n",
       "      <td>7</td>\n",
       "      <td>6GBjCBVtPGsnQ67neAAkjw</td>\n",
       "      <td>4</td>\n",
       "      <td>Was boozin and cruisin with my canine comrade....</td>\n",
       "      <td>review</td>\n",
       "      <td>7</td>\n",
       "      <td>i8hCMZN-0bHENsHZKHpC-g</td>\n",
       "    </tr>\n",
       "    <tr>\n",
       "      <th>20</th>\n",
       "      <td>4P-vTvE6cncJyUyLh73pxw</td>\n",
       "      <td>1</td>\n",
       "      <td>2016-05-11</td>\n",
       "      <td>0</td>\n",
       "      <td>FFTN8Y1U9G2F_p1dQnxO7A</td>\n",
       "      <td>4</td>\n",
       "      <td>Okay, so it is a bar with an old fashioned fam...</td>\n",
       "      <td>review</td>\n",
       "      <td>0</td>\n",
       "      <td>W4cfK8SxPloWtIXl3JST2g</td>\n",
       "    </tr>\n",
       "    <tr>\n",
       "      <th>21</th>\n",
       "      <td>4P-vTvE6cncJyUyLh73pxw</td>\n",
       "      <td>0</td>\n",
       "      <td>2016-01-23</td>\n",
       "      <td>0</td>\n",
       "      <td>HbnWR7vaXD5FLCcrrMAGhg</td>\n",
       "      <td>1</td>\n",
       "      <td>Unmmmm, no. It's a bar with tables in the next...</td>\n",
       "      <td>review</td>\n",
       "      <td>0</td>\n",
       "      <td>ub50UE95-gu7yIoed1zssA</td>\n",
       "    </tr>\n",
       "    <tr>\n",
       "      <th>22</th>\n",
       "      <td>4P-vTvE6cncJyUyLh73pxw</td>\n",
       "      <td>0</td>\n",
       "      <td>2016-08-01</td>\n",
       "      <td>0</td>\n",
       "      <td>cTNeflcioISILyhQpt0HDA</td>\n",
       "      <td>3</td>\n",
       "      <td>This place is very dark and dingy on the insid...</td>\n",
       "      <td>review</td>\n",
       "      <td>0</td>\n",
       "      <td>RlpkcJqctkKXl-LO1IAtig</td>\n",
       "    </tr>\n",
       "    <tr>\n",
       "      <th>23</th>\n",
       "      <td>4P-vTvE6cncJyUyLh73pxw</td>\n",
       "      <td>0</td>\n",
       "      <td>2011-04-01</td>\n",
       "      <td>2</td>\n",
       "      <td>Pqe0NlNUcxzEnUXALZviuA</td>\n",
       "      <td>3</td>\n",
       "      <td>The food is typical.  Wait how much was my mea...</td>\n",
       "      <td>review</td>\n",
       "      <td>0</td>\n",
       "      <td>1-xPzJk_ijBvY2J8Re1DIQ</td>\n",
       "    </tr>\n",
       "    <tr>\n",
       "      <th>24</th>\n",
       "      <td>4P-vTvE6cncJyUyLh73pxw</td>\n",
       "      <td>1</td>\n",
       "      <td>2013-04-01</td>\n",
       "      <td>1</td>\n",
       "      <td>sKStdKdvO5nIn1ZN0OC-cg</td>\n",
       "      <td>2</td>\n",
       "      <td>Not particularly good. Bathroom is nasty. Food...</td>\n",
       "      <td>review</td>\n",
       "      <td>2</td>\n",
       "      <td>bZBPVRIGQZ0WXRYLtYXbYQ</td>\n",
       "    </tr>\n",
       "    <tr>\n",
       "      <th>25</th>\n",
       "      <td>4P-vTvE6cncJyUyLh73pxw</td>\n",
       "      <td>0</td>\n",
       "      <td>2012-05-01</td>\n",
       "      <td>0</td>\n",
       "      <td>f0l_4MrqYjVCOZq_PowquQ</td>\n",
       "      <td>4</td>\n",
       "      <td>I can't give this palce 5 stars because hell, ...</td>\n",
       "      <td>review</td>\n",
       "      <td>1</td>\n",
       "      <td>BRO98wNeY2Q_BZX8G-iVvg</td>\n",
       "    </tr>\n",
       "    <tr>\n",
       "      <th>26</th>\n",
       "      <td>4P-vTvE6cncJyUyLh73pxw</td>\n",
       "      <td>0</td>\n",
       "      <td>2015-11-21</td>\n",
       "      <td>0</td>\n",
       "      <td>QVS_4D3lLpilcljTSzKtcw</td>\n",
       "      <td>2</td>\n",
       "      <td>Neighborhood bar, with the friendliness that c...</td>\n",
       "      <td>review</td>\n",
       "      <td>0</td>\n",
       "      <td>7phnWalwWR0LcV-4xGGFgg</td>\n",
       "    </tr>\n",
       "    <tr>\n",
       "      <th>27</th>\n",
       "      <td>4uiijOUDzc-DeIb2XcKW_A</td>\n",
       "      <td>1</td>\n",
       "      <td>2010-11-25</td>\n",
       "      <td>1</td>\n",
       "      <td>2tjghSImOPf4A9L4zhByRQ</td>\n",
       "      <td>3</td>\n",
       "      <td>Ah, Khotan... I knew you when (SIGH) you were ...</td>\n",
       "      <td>review</td>\n",
       "      <td>1</td>\n",
       "      <td>cPifBB7Qbjs9PntPGOY9iQ</td>\n",
       "    </tr>\n",
       "    <tr>\n",
       "      <th>28</th>\n",
       "      <td>4uiijOUDzc-DeIb2XcKW_A</td>\n",
       "      <td>2</td>\n",
       "      <td>2010-09-06</td>\n",
       "      <td>1</td>\n",
       "      <td>N42b2u6YSL5iEjN6NnrKeQ</td>\n",
       "      <td>4</td>\n",
       "      <td>My boyfriend and I decided to go resturant hun...</td>\n",
       "      <td>review</td>\n",
       "      <td>2</td>\n",
       "      <td>GDeoUHALgyqK13ewN92Jnw</td>\n",
       "    </tr>\n",
       "    <tr>\n",
       "      <th>29</th>\n",
       "      <td>4uiijOUDzc-DeIb2XcKW_A</td>\n",
       "      <td>0</td>\n",
       "      <td>2011-03-29</td>\n",
       "      <td>0</td>\n",
       "      <td>sSuy_QaLPKX99kSGy1QwHA</td>\n",
       "      <td>4</td>\n",
       "      <td>I love the decor and vibe of Khotan. A little ...</td>\n",
       "      <td>review</td>\n",
       "      <td>0</td>\n",
       "      <td>GABWrw5Et9jubriKwMUDbw</td>\n",
       "    </tr>\n",
       "    <tr>\n",
       "      <th>...</th>\n",
       "      <td>...</td>\n",
       "      <td>...</td>\n",
       "      <td>...</td>\n",
       "      <td>...</td>\n",
       "      <td>...</td>\n",
       "      <td>...</td>\n",
       "      <td>...</td>\n",
       "      <td>...</td>\n",
       "      <td>...</td>\n",
       "      <td>...</td>\n",
       "    </tr>\n",
       "    <tr>\n",
       "      <th>188066</th>\n",
       "      <td>OY0-hYJ2q6WiAqhYnCZZ0w</td>\n",
       "      <td>1</td>\n",
       "      <td>2013-12-03</td>\n",
       "      <td>0</td>\n",
       "      <td>GBt2CUqphvSoIsPGsN7BHQ</td>\n",
       "      <td>3</td>\n",
       "      <td>First, let me say, I really wish that I could ...</td>\n",
       "      <td>review</td>\n",
       "      <td>2</td>\n",
       "      <td>n4P8tLvD1ppd1m5SI242TQ</td>\n",
       "    </tr>\n",
       "    <tr>\n",
       "      <th>188067</th>\n",
       "      <td>OY0-hYJ2q6WiAqhYnCZZ0w</td>\n",
       "      <td>1</td>\n",
       "      <td>2015-03-19</td>\n",
       "      <td>0</td>\n",
       "      <td>EMe8GcjxTJ-7bN3GyMUrgw</td>\n",
       "      <td>2</td>\n",
       "      <td>I'm going with 2 stars for the beer selection ...</td>\n",
       "      <td>review</td>\n",
       "      <td>1</td>\n",
       "      <td>ekJB1OVvPchp95zCRB9G9w</td>\n",
       "    </tr>\n",
       "    <tr>\n",
       "      <th>188068</th>\n",
       "      <td>-FNquqGseSCVMWo7KbK-Tg</td>\n",
       "      <td>0</td>\n",
       "      <td>2015-05-08</td>\n",
       "      <td>0</td>\n",
       "      <td>WQUmmBzFz2lSbnvDYkkmrw</td>\n",
       "      <td>2</td>\n",
       "      <td>I've been to Chipotle before many times and kn...</td>\n",
       "      <td>review</td>\n",
       "      <td>0</td>\n",
       "      <td>r4ieiOnj62KYwxD_KVWGXQ</td>\n",
       "    </tr>\n",
       "    <tr>\n",
       "      <th>188069</th>\n",
       "      <td>-FNquqGseSCVMWo7KbK-Tg</td>\n",
       "      <td>0</td>\n",
       "      <td>2015-07-22</td>\n",
       "      <td>0</td>\n",
       "      <td>aIGnc8cWxHe5oVUeFFtnsg</td>\n",
       "      <td>1</td>\n",
       "      <td>If I could give this chipotle zero stars I wou...</td>\n",
       "      <td>review</td>\n",
       "      <td>1</td>\n",
       "      <td>yqwsHkPNxwlq9-k1sJ6evg</td>\n",
       "    </tr>\n",
       "    <tr>\n",
       "      <th>188070</th>\n",
       "      <td>-FNquqGseSCVMWo7KbK-Tg</td>\n",
       "      <td>0</td>\n",
       "      <td>2010-12-08</td>\n",
       "      <td>0</td>\n",
       "      <td>otc4efDkLGL9MxY1-Fa57Q</td>\n",
       "      <td>4</td>\n",
       "      <td>I love CHIPOTLE! It's like my favorite fast fo...</td>\n",
       "      <td>review</td>\n",
       "      <td>0</td>\n",
       "      <td>0guV-tXB82pi2stV7a5g5Q</td>\n",
       "    </tr>\n",
       "    <tr>\n",
       "      <th>188071</th>\n",
       "      <td>-FNquqGseSCVMWo7KbK-Tg</td>\n",
       "      <td>1</td>\n",
       "      <td>2014-03-20</td>\n",
       "      <td>2</td>\n",
       "      <td>PmX73joEJtSOgjgWRA2WSA</td>\n",
       "      <td>5</td>\n",
       "      <td>Service is really great here. The lines are lo...</td>\n",
       "      <td>review</td>\n",
       "      <td>1</td>\n",
       "      <td>JMU4hmWtKJ_fYnDgS_RFag</td>\n",
       "    </tr>\n",
       "    <tr>\n",
       "      <th>188072</th>\n",
       "      <td>-FNquqGseSCVMWo7KbK-Tg</td>\n",
       "      <td>0</td>\n",
       "      <td>2011-08-09</td>\n",
       "      <td>0</td>\n",
       "      <td>9KThNF9zVKJeFX7qCmXsQQ</td>\n",
       "      <td>5</td>\n",
       "      <td>I am a big fan of chipotle! I always either ge...</td>\n",
       "      <td>review</td>\n",
       "      <td>0</td>\n",
       "      <td>RD7-9IV8U5SVJhq8ddWY0g</td>\n",
       "    </tr>\n",
       "    <tr>\n",
       "      <th>188073</th>\n",
       "      <td>-FNquqGseSCVMWo7KbK-Tg</td>\n",
       "      <td>0</td>\n",
       "      <td>2014-08-07</td>\n",
       "      <td>0</td>\n",
       "      <td>iBiEAEAadswtCNMq5TdEBw</td>\n",
       "      <td>2</td>\n",
       "      <td>Make sure you check your orders before your le...</td>\n",
       "      <td>review</td>\n",
       "      <td>0</td>\n",
       "      <td>zTWkc18iRu1TG9dap8q2CQ</td>\n",
       "    </tr>\n",
       "    <tr>\n",
       "      <th>188074</th>\n",
       "      <td>-FNquqGseSCVMWo7KbK-Tg</td>\n",
       "      <td>0</td>\n",
       "      <td>2007-02-23</td>\n",
       "      <td>1</td>\n",
       "      <td>LwmxqsUb4P7AEpAWP4g0Gw</td>\n",
       "      <td>4</td>\n",
       "      <td>i like getting the 3 taco combo here. the sals...</td>\n",
       "      <td>review</td>\n",
       "      <td>0</td>\n",
       "      <td>SssXdhbeYJOCF6sfSFwC-Q</td>\n",
       "    </tr>\n",
       "    <tr>\n",
       "      <th>188075</th>\n",
       "      <td>-FNquqGseSCVMWo7KbK-Tg</td>\n",
       "      <td>0</td>\n",
       "      <td>2016-05-20</td>\n",
       "      <td>0</td>\n",
       "      <td>-Ekc3S52wXvh8Ue1B-nhng</td>\n",
       "      <td>5</td>\n",
       "      <td>It is my first time at this location,  and Jus...</td>\n",
       "      <td>review</td>\n",
       "      <td>0</td>\n",
       "      <td>fwxXAOGEgn-U2qTUPWc00A</td>\n",
       "    </tr>\n",
       "    <tr>\n",
       "      <th>188076</th>\n",
       "      <td>-FNquqGseSCVMWo7KbK-Tg</td>\n",
       "      <td>0</td>\n",
       "      <td>2012-10-21</td>\n",
       "      <td>0</td>\n",
       "      <td>gzIdB3548iAra4gZ6j0u3g</td>\n",
       "      <td>4</td>\n",
       "      <td>This is my go-to Chipotle since I work really ...</td>\n",
       "      <td>review</td>\n",
       "      <td>0</td>\n",
       "      <td>9u9fQhq0hynxjLQgZGpmSA</td>\n",
       "    </tr>\n",
       "    <tr>\n",
       "      <th>188077</th>\n",
       "      <td>-FNquqGseSCVMWo7KbK-Tg</td>\n",
       "      <td>0</td>\n",
       "      <td>2009-05-04</td>\n",
       "      <td>0</td>\n",
       "      <td>OeeyDdvBmL7QugLm3IhZEg</td>\n",
       "      <td>3</td>\n",
       "      <td>Clear from the reviews that this is the \"UNLV\"...</td>\n",
       "      <td>review</td>\n",
       "      <td>0</td>\n",
       "      <td>dLuNvprTH04p6ZNCyjIq9g</td>\n",
       "    </tr>\n",
       "    <tr>\n",
       "      <th>188078</th>\n",
       "      <td>-FNquqGseSCVMWo7KbK-Tg</td>\n",
       "      <td>0</td>\n",
       "      <td>2010-04-30</td>\n",
       "      <td>2</td>\n",
       "      <td>s7QIj-rFMT2NuWlemrykEA</td>\n",
       "      <td>4</td>\n",
       "      <td>As chains go, I have to give this location a s...</td>\n",
       "      <td>review</td>\n",
       "      <td>0</td>\n",
       "      <td>v2C4S11PHzLEXKeF5kvTJA</td>\n",
       "    </tr>\n",
       "    <tr>\n",
       "      <th>188079</th>\n",
       "      <td>oU-Af-_1zT-ewuLfIubN2w</td>\n",
       "      <td>0</td>\n",
       "      <td>2013-01-23</td>\n",
       "      <td>0</td>\n",
       "      <td>ijy2KqjSgjwqmt9v9lXGaA</td>\n",
       "      <td>3</td>\n",
       "      <td>This place is alright. Katsu used to be the fi...</td>\n",
       "      <td>review</td>\n",
       "      <td>1</td>\n",
       "      <td>LaO4FZ2yPbqRjlv6QoaUJQ</td>\n",
       "    </tr>\n",
       "    <tr>\n",
       "      <th>188080</th>\n",
       "      <td>oU-Af-_1zT-ewuLfIubN2w</td>\n",
       "      <td>0</td>\n",
       "      <td>2014-06-01</td>\n",
       "      <td>0</td>\n",
       "      <td>K9CyGGBgmKXaoFNW_TpRpg</td>\n",
       "      <td>1</td>\n",
       "      <td>Used to be a good place . I gave them a couple...</td>\n",
       "      <td>review</td>\n",
       "      <td>0</td>\n",
       "      <td>fWlw_D7S5ug0-nlLSuDDNA</td>\n",
       "    </tr>\n",
       "    <tr>\n",
       "      <th>188081</th>\n",
       "      <td>oU-Af-_1zT-ewuLfIubN2w</td>\n",
       "      <td>0</td>\n",
       "      <td>2014-12-29</td>\n",
       "      <td>0</td>\n",
       "      <td>xjOKQv9LozEkKAEDnlnAQw</td>\n",
       "      <td>3</td>\n",
       "      <td>Nice. relaxing atmosphere.  There are some boo...</td>\n",
       "      <td>review</td>\n",
       "      <td>0</td>\n",
       "      <td>nX4_7OOjbvhj7Qv62fr-mg</td>\n",
       "    </tr>\n",
       "    <tr>\n",
       "      <th>188082</th>\n",
       "      <td>oU-Af-_1zT-ewuLfIubN2w</td>\n",
       "      <td>0</td>\n",
       "      <td>2015-06-20</td>\n",
       "      <td>0</td>\n",
       "      <td>63x-LVUQUO1H7oLR674phw</td>\n",
       "      <td>1</td>\n",
       "      <td>my 15 year old son and i went for an ayce lunc...</td>\n",
       "      <td>review</td>\n",
       "      <td>0</td>\n",
       "      <td>4xMo2X2nEzPmlNMvhdtrKg</td>\n",
       "    </tr>\n",
       "    <tr>\n",
       "      <th>188083</th>\n",
       "      <td>oU-Af-_1zT-ewuLfIubN2w</td>\n",
       "      <td>0</td>\n",
       "      <td>2013-05-29</td>\n",
       "      <td>0</td>\n",
       "      <td>jZXzb1ckvyOc69hnFPpsfw</td>\n",
       "      <td>4</td>\n",
       "      <td>What can I say? All you can eat for around $20...</td>\n",
       "      <td>review</td>\n",
       "      <td>0</td>\n",
       "      <td>AAjwOr0Ibj1fr6Vw3xz2Xg</td>\n",
       "    </tr>\n",
       "    <tr>\n",
       "      <th>188084</th>\n",
       "      <td>oU-Af-_1zT-ewuLfIubN2w</td>\n",
       "      <td>0</td>\n",
       "      <td>2013-01-29</td>\n",
       "      <td>0</td>\n",
       "      <td>Ta4CESu3X_rVvIub3hVnMQ</td>\n",
       "      <td>3</td>\n",
       "      <td>Is this the best sushi in Toronto?  No.  But t...</td>\n",
       "      <td>review</td>\n",
       "      <td>2</td>\n",
       "      <td>OaXoIA1p-6a6AOmBX-fKsw</td>\n",
       "    </tr>\n",
       "    <tr>\n",
       "      <th>188085</th>\n",
       "      <td>oU-Af-_1zT-ewuLfIubN2w</td>\n",
       "      <td>0</td>\n",
       "      <td>2013-05-30</td>\n",
       "      <td>0</td>\n",
       "      <td>nq42pW5WOtPK0tOy6F3TwQ</td>\n",
       "      <td>1</td>\n",
       "      <td>I came here because the price seemed to good t...</td>\n",
       "      <td>review</td>\n",
       "      <td>0</td>\n",
       "      <td>fnRRMYKc2Lw_a3ayS4t7Cw</td>\n",
       "    </tr>\n",
       "    <tr>\n",
       "      <th>188086</th>\n",
       "      <td>oU-Af-_1zT-ewuLfIubN2w</td>\n",
       "      <td>1</td>\n",
       "      <td>2011-09-29</td>\n",
       "      <td>0</td>\n",
       "      <td>TMuNHPRXDK8aKN3P4eQ0Zw</td>\n",
       "      <td>5</td>\n",
       "      <td>Heres the thing, Katsu has a small AYCE sushi ...</td>\n",
       "      <td>review</td>\n",
       "      <td>1</td>\n",
       "      <td>RYmEkQhgBqP1Hmkl3h-cyw</td>\n",
       "    </tr>\n",
       "    <tr>\n",
       "      <th>188087</th>\n",
       "      <td>oU-Af-_1zT-ewuLfIubN2w</td>\n",
       "      <td>0</td>\n",
       "      <td>2012-11-28</td>\n",
       "      <td>0</td>\n",
       "      <td>y1E4cx-3J4a9Ab5xVYSVLg</td>\n",
       "      <td>4</td>\n",
       "      <td>Popped in for dinner last night.\\nI was a litt...</td>\n",
       "      <td>review</td>\n",
       "      <td>0</td>\n",
       "      <td>-9SoHrhiiUVmx6-MkyR4RA</td>\n",
       "    </tr>\n",
       "    <tr>\n",
       "      <th>188088</th>\n",
       "      <td>oU-Af-_1zT-ewuLfIubN2w</td>\n",
       "      <td>0</td>\n",
       "      <td>2014-03-26</td>\n",
       "      <td>0</td>\n",
       "      <td>uNXMvVbDnhR0dRk88YO5OQ</td>\n",
       "      <td>4</td>\n",
       "      <td>So I read all of these reviews on Katsu before...</td>\n",
       "      <td>review</td>\n",
       "      <td>0</td>\n",
       "      <td>b9EOHQgkDuWP8WrM3cBzbw</td>\n",
       "    </tr>\n",
       "    <tr>\n",
       "      <th>188089</th>\n",
       "      <td>oU-Af-_1zT-ewuLfIubN2w</td>\n",
       "      <td>0</td>\n",
       "      <td>2013-06-21</td>\n",
       "      <td>0</td>\n",
       "      <td>Z5xOV9jcssshxgIZsD6nUw</td>\n",
       "      <td>3</td>\n",
       "      <td>Good for late night sushi since they are open ...</td>\n",
       "      <td>review</td>\n",
       "      <td>0</td>\n",
       "      <td>S4j7p_W8pmDigNjyv-EEJA</td>\n",
       "    </tr>\n",
       "    <tr>\n",
       "      <th>188090</th>\n",
       "      <td>oU-Af-_1zT-ewuLfIubN2w</td>\n",
       "      <td>0</td>\n",
       "      <td>2014-10-22</td>\n",
       "      <td>0</td>\n",
       "      <td>76ntHmi-kFHL4smJ9y7u8w</td>\n",
       "      <td>2</td>\n",
       "      <td>I had AYCE here. The prices were incorrect on ...</td>\n",
       "      <td>review</td>\n",
       "      <td>0</td>\n",
       "      <td>JllUxfQd-UvkjQmeScOzAQ</td>\n",
       "    </tr>\n",
       "    <tr>\n",
       "      <th>188091</th>\n",
       "      <td>oU-Af-_1zT-ewuLfIubN2w</td>\n",
       "      <td>0</td>\n",
       "      <td>2013-10-11</td>\n",
       "      <td>1</td>\n",
       "      <td>dYkPZg7Ndnr0F40tG9sPLQ</td>\n",
       "      <td>4</td>\n",
       "      <td>Last night while shopping on the Danforth we s...</td>\n",
       "      <td>review</td>\n",
       "      <td>0</td>\n",
       "      <td>FvbGyxLS58q9ezyNdjzxqw</td>\n",
       "    </tr>\n",
       "    <tr>\n",
       "      <th>188092</th>\n",
       "      <td>oU-Af-_1zT-ewuLfIubN2w</td>\n",
       "      <td>0</td>\n",
       "      <td>2015-11-15</td>\n",
       "      <td>0</td>\n",
       "      <td>W1-8Vy0DBmPHSe2bvTd1bw</td>\n",
       "      <td>5</td>\n",
       "      <td>Yesterday, I went there for the first time. Be...</td>\n",
       "      <td>review</td>\n",
       "      <td>0</td>\n",
       "      <td>1ickSuyOWWKWdQpauKmkEw</td>\n",
       "    </tr>\n",
       "    <tr>\n",
       "      <th>188093</th>\n",
       "      <td>oU-Af-_1zT-ewuLfIubN2w</td>\n",
       "      <td>0</td>\n",
       "      <td>2016-09-27</td>\n",
       "      <td>0</td>\n",
       "      <td>k8ZAq9DKTdn972qrcXZ_5g</td>\n",
       "      <td>3</td>\n",
       "      <td>It's a mix. We had the all you can eat on a Fr...</td>\n",
       "      <td>review</td>\n",
       "      <td>0</td>\n",
       "      <td>6H_tP23-L2zvC58qW7qojw</td>\n",
       "    </tr>\n",
       "    <tr>\n",
       "      <th>188094</th>\n",
       "      <td>oU-Af-_1zT-ewuLfIubN2w</td>\n",
       "      <td>4</td>\n",
       "      <td>2010-12-03</td>\n",
       "      <td>1</td>\n",
       "      <td>2V9eB8QO_EM2QBDC6ql1MQ</td>\n",
       "      <td>1</td>\n",
       "      <td>The last time I went here (a few years ago) a ...</td>\n",
       "      <td>review</td>\n",
       "      <td>6</td>\n",
       "      <td>N0qq4upibIRvLzE2SzVPtQ</td>\n",
       "    </tr>\n",
       "    <tr>\n",
       "      <th>188095</th>\n",
       "      <td>oU-Af-_1zT-ewuLfIubN2w</td>\n",
       "      <td>0</td>\n",
       "      <td>2014-11-12</td>\n",
       "      <td>0</td>\n",
       "      <td>AMAHjRA7di5U2ROESy5WAA</td>\n",
       "      <td>4</td>\n",
       "      <td>I love katsu! Great food, &amp; prices... I usuall...</td>\n",
       "      <td>review</td>\n",
       "      <td>0</td>\n",
       "      <td>2nmA1nvnVxYN6JmeZwav_Q</td>\n",
       "    </tr>\n",
       "  </tbody>\n",
       "</table>\n",
       "<p>188096 rows × 10 columns</p>\n",
       "</div>"
      ],
      "text/plain": [
       "                   business_id  cool        date  funny  \\\n",
       "0       2aFiy99vNLklCx3T_tGS9A     0  2010-12-29      0   \n",
       "1       2LfIuF3_sX6uwe-IR-P0jQ     1  2014-07-14      0   \n",
       "2       2LfIuF3_sX6uwe-IR-P0jQ     1  2013-04-28      0   \n",
       "3       2LfIuF3_sX6uwe-IR-P0jQ     0  2012-09-18      0   \n",
       "4       2LfIuF3_sX6uwe-IR-P0jQ     0  2015-04-05      0   \n",
       "5       2LfIuF3_sX6uwe-IR-P0jQ     1  2014-08-23      1   \n",
       "6       2LfIuF3_sX6uwe-IR-P0jQ     0  2014-08-05      0   \n",
       "7       2LfIuF3_sX6uwe-IR-P0jQ     2  2013-11-17      3   \n",
       "8       2LfIuF3_sX6uwe-IR-P0jQ     0  2014-08-23      0   \n",
       "9       0czfEgv9KAD4VlIa7ANPWQ     1  2009-04-10      2   \n",
       "10      0czfEgv9KAD4VlIa7ANPWQ     4  2007-12-15      5   \n",
       "11      0czfEgv9KAD4VlIa7ANPWQ     1  2009-02-01      4   \n",
       "12      0czfEgv9KAD4VlIa7ANPWQ     0  2010-03-01      0   \n",
       "13      0czfEgv9KAD4VlIa7ANPWQ     0  2011-01-14      0   \n",
       "14      7GI_V9oLCUGdn2ogqB0IBg     0  2014-04-26      0   \n",
       "15      4P-vTvE6cncJyUyLh73pxw     0  2014-03-29      0   \n",
       "16      4P-vTvE6cncJyUyLh73pxw     0  2012-10-20      0   \n",
       "17      4P-vTvE6cncJyUyLh73pxw     0  2015-07-27      0   \n",
       "18      4P-vTvE6cncJyUyLh73pxw     0  2013-03-16      0   \n",
       "19      4P-vTvE6cncJyUyLh73pxw     6  2011-05-25      7   \n",
       "20      4P-vTvE6cncJyUyLh73pxw     1  2016-05-11      0   \n",
       "21      4P-vTvE6cncJyUyLh73pxw     0  2016-01-23      0   \n",
       "22      4P-vTvE6cncJyUyLh73pxw     0  2016-08-01      0   \n",
       "23      4P-vTvE6cncJyUyLh73pxw     0  2011-04-01      2   \n",
       "24      4P-vTvE6cncJyUyLh73pxw     1  2013-04-01      1   \n",
       "25      4P-vTvE6cncJyUyLh73pxw     0  2012-05-01      0   \n",
       "26      4P-vTvE6cncJyUyLh73pxw     0  2015-11-21      0   \n",
       "27      4uiijOUDzc-DeIb2XcKW_A     1  2010-11-25      1   \n",
       "28      4uiijOUDzc-DeIb2XcKW_A     2  2010-09-06      1   \n",
       "29      4uiijOUDzc-DeIb2XcKW_A     0  2011-03-29      0   \n",
       "...                        ...   ...         ...    ...   \n",
       "188066  OY0-hYJ2q6WiAqhYnCZZ0w     1  2013-12-03      0   \n",
       "188067  OY0-hYJ2q6WiAqhYnCZZ0w     1  2015-03-19      0   \n",
       "188068  -FNquqGseSCVMWo7KbK-Tg     0  2015-05-08      0   \n",
       "188069  -FNquqGseSCVMWo7KbK-Tg     0  2015-07-22      0   \n",
       "188070  -FNquqGseSCVMWo7KbK-Tg     0  2010-12-08      0   \n",
       "188071  -FNquqGseSCVMWo7KbK-Tg     1  2014-03-20      2   \n",
       "188072  -FNquqGseSCVMWo7KbK-Tg     0  2011-08-09      0   \n",
       "188073  -FNquqGseSCVMWo7KbK-Tg     0  2014-08-07      0   \n",
       "188074  -FNquqGseSCVMWo7KbK-Tg     0  2007-02-23      1   \n",
       "188075  -FNquqGseSCVMWo7KbK-Tg     0  2016-05-20      0   \n",
       "188076  -FNquqGseSCVMWo7KbK-Tg     0  2012-10-21      0   \n",
       "188077  -FNquqGseSCVMWo7KbK-Tg     0  2009-05-04      0   \n",
       "188078  -FNquqGseSCVMWo7KbK-Tg     0  2010-04-30      2   \n",
       "188079  oU-Af-_1zT-ewuLfIubN2w     0  2013-01-23      0   \n",
       "188080  oU-Af-_1zT-ewuLfIubN2w     0  2014-06-01      0   \n",
       "188081  oU-Af-_1zT-ewuLfIubN2w     0  2014-12-29      0   \n",
       "188082  oU-Af-_1zT-ewuLfIubN2w     0  2015-06-20      0   \n",
       "188083  oU-Af-_1zT-ewuLfIubN2w     0  2013-05-29      0   \n",
       "188084  oU-Af-_1zT-ewuLfIubN2w     0  2013-01-29      0   \n",
       "188085  oU-Af-_1zT-ewuLfIubN2w     0  2013-05-30      0   \n",
       "188086  oU-Af-_1zT-ewuLfIubN2w     1  2011-09-29      0   \n",
       "188087  oU-Af-_1zT-ewuLfIubN2w     0  2012-11-28      0   \n",
       "188088  oU-Af-_1zT-ewuLfIubN2w     0  2014-03-26      0   \n",
       "188089  oU-Af-_1zT-ewuLfIubN2w     0  2013-06-21      0   \n",
       "188090  oU-Af-_1zT-ewuLfIubN2w     0  2014-10-22      0   \n",
       "188091  oU-Af-_1zT-ewuLfIubN2w     0  2013-10-11      1   \n",
       "188092  oU-Af-_1zT-ewuLfIubN2w     0  2015-11-15      0   \n",
       "188093  oU-Af-_1zT-ewuLfIubN2w     0  2016-09-27      0   \n",
       "188094  oU-Af-_1zT-ewuLfIubN2w     4  2010-12-03      1   \n",
       "188095  oU-Af-_1zT-ewuLfIubN2w     0  2014-11-12      0   \n",
       "\n",
       "                     review_id  stars  \\\n",
       "0       pXbbIgOXvLuTi_SPs1hQEQ      5   \n",
       "1       GP6YEearUWrzPtQYSF1vVg      5   \n",
       "2       Uf1Ki1yyH_JDKhLvn2e4FQ      5   \n",
       "3       bRvdVt88MJ_YMTlLbjDLxQ      5   \n",
       "4       LkP1l7sZIwOV6IKNLqQp_A      5   \n",
       "5       dJguzIfNKtGkKk8ryOPdfQ      5   \n",
       "6       cNA3oGTmmeRvt10vrvlJOQ      5   \n",
       "7       klVqdjXPM2aM8Y0RsDCPoA      1   \n",
       "8       k4xighfFxKv5H-Eic28MNQ      5   \n",
       "9       _a7Zu2ZSEGO4bl2gvu7OtQ      5   \n",
       "10      RAzbLYbgw3tNv8Tu0R7qmQ      3   \n",
       "11      dfL5TyVib8uZgxaNMwx7Aw      2   \n",
       "12      fA2NFb69SvDCsB7WSpY2rw      2   \n",
       "13      ezuT8BpvhLITCfbQEWddsw      2   \n",
       "14      ojtDaz6oAxS74VnAAjb4NQ      5   \n",
       "15      6-hKBi-6RC3g7Mft0c-6qw      4   \n",
       "16      8Mu56iQ-MYEyivqUVss0XA      4   \n",
       "17      6YC4o9yLc25DK8c6soOlaw      4   \n",
       "18      JYyKOtLznozAlT8P1Foaow      2   \n",
       "19      6GBjCBVtPGsnQ67neAAkjw      4   \n",
       "20      FFTN8Y1U9G2F_p1dQnxO7A      4   \n",
       "21      HbnWR7vaXD5FLCcrrMAGhg      1   \n",
       "22      cTNeflcioISILyhQpt0HDA      3   \n",
       "23      Pqe0NlNUcxzEnUXALZviuA      3   \n",
       "24      sKStdKdvO5nIn1ZN0OC-cg      2   \n",
       "25      f0l_4MrqYjVCOZq_PowquQ      4   \n",
       "26      QVS_4D3lLpilcljTSzKtcw      2   \n",
       "27      2tjghSImOPf4A9L4zhByRQ      3   \n",
       "28      N42b2u6YSL5iEjN6NnrKeQ      4   \n",
       "29      sSuy_QaLPKX99kSGy1QwHA      4   \n",
       "...                        ...    ...   \n",
       "188066  GBt2CUqphvSoIsPGsN7BHQ      3   \n",
       "188067  EMe8GcjxTJ-7bN3GyMUrgw      2   \n",
       "188068  WQUmmBzFz2lSbnvDYkkmrw      2   \n",
       "188069  aIGnc8cWxHe5oVUeFFtnsg      1   \n",
       "188070  otc4efDkLGL9MxY1-Fa57Q      4   \n",
       "188071  PmX73joEJtSOgjgWRA2WSA      5   \n",
       "188072  9KThNF9zVKJeFX7qCmXsQQ      5   \n",
       "188073  iBiEAEAadswtCNMq5TdEBw      2   \n",
       "188074  LwmxqsUb4P7AEpAWP4g0Gw      4   \n",
       "188075  -Ekc3S52wXvh8Ue1B-nhng      5   \n",
       "188076  gzIdB3548iAra4gZ6j0u3g      4   \n",
       "188077  OeeyDdvBmL7QugLm3IhZEg      3   \n",
       "188078  s7QIj-rFMT2NuWlemrykEA      4   \n",
       "188079  ijy2KqjSgjwqmt9v9lXGaA      3   \n",
       "188080  K9CyGGBgmKXaoFNW_TpRpg      1   \n",
       "188081  xjOKQv9LozEkKAEDnlnAQw      3   \n",
       "188082  63x-LVUQUO1H7oLR674phw      1   \n",
       "188083  jZXzb1ckvyOc69hnFPpsfw      4   \n",
       "188084  Ta4CESu3X_rVvIub3hVnMQ      3   \n",
       "188085  nq42pW5WOtPK0tOy6F3TwQ      1   \n",
       "188086  TMuNHPRXDK8aKN3P4eQ0Zw      5   \n",
       "188087  y1E4cx-3J4a9Ab5xVYSVLg      4   \n",
       "188088  uNXMvVbDnhR0dRk88YO5OQ      4   \n",
       "188089  Z5xOV9jcssshxgIZsD6nUw      3   \n",
       "188090  76ntHmi-kFHL4smJ9y7u8w      2   \n",
       "188091  dYkPZg7Ndnr0F40tG9sPLQ      4   \n",
       "188092  W1-8Vy0DBmPHSe2bvTd1bw      5   \n",
       "188093  k8ZAq9DKTdn972qrcXZ_5g      3   \n",
       "188094  2V9eB8QO_EM2QBDC6ql1MQ      1   \n",
       "188095  AMAHjRA7di5U2ROESy5WAA      4   \n",
       "\n",
       "                                                     text    type  useful  \\\n",
       "0       After being on the phone with Verizon Wireless...  review       1   \n",
       "1       Highly recommended. Went in yesterday looking ...  review       0   \n",
       "2       What a great place! Modern on Melrose has amaz...  review       2   \n",
       "3       This place is a great for those vintage/mid ce...  review       2   \n",
       "4       Great items at a good price.  Helpful, easy to...  review       0   \n",
       "5       I'm a local Real Estate agent and have fallen ...  review       1   \n",
       "6       Walked into the store and stuck up a conversat...  review       1   \n",
       "7       Unfortunately, Yelp does not allow negative st...  review       4   \n",
       "8       I stumbled upon Modern on Melrose earlier in t...  review       0   \n",
       "9       I love Mint, and even though I'm a guy and the...  review       2   \n",
       "10      Hmmm, what to say about Mint.\\n\\nOkay, if you ...  review       5   \n",
       "11      I remember really enjoying browsing through Mi...  review       3   \n",
       "12      Well.. Well...well..Ive been highly recomended...  review       2   \n",
       "13      I have been consistently underwhelmed by this ...  review       1   \n",
       "14      This place is great!  I first came here to fue...  review       0   \n",
       "15      This place is a area staple! Been around for y...  review       0   \n",
       "16      Don't go here for the decor, but the staff is ...  review       1   \n",
       "17      If you like fried food and laid back, then thi...  review       0   \n",
       "18      I was not impressed with how gross this place ...  review       0   \n",
       "19      Was boozin and cruisin with my canine comrade....  review       7   \n",
       "20      Okay, so it is a bar with an old fashioned fam...  review       0   \n",
       "21      Unmmmm, no. It's a bar with tables in the next...  review       0   \n",
       "22      This place is very dark and dingy on the insid...  review       0   \n",
       "23      The food is typical.  Wait how much was my mea...  review       0   \n",
       "24      Not particularly good. Bathroom is nasty. Food...  review       2   \n",
       "25      I can't give this palce 5 stars because hell, ...  review       1   \n",
       "26      Neighborhood bar, with the friendliness that c...  review       0   \n",
       "27      Ah, Khotan... I knew you when (SIGH) you were ...  review       1   \n",
       "28      My boyfriend and I decided to go resturant hun...  review       2   \n",
       "29      I love the decor and vibe of Khotan. A little ...  review       0   \n",
       "...                                                   ...     ...     ...   \n",
       "188066  First, let me say, I really wish that I could ...  review       2   \n",
       "188067  I'm going with 2 stars for the beer selection ...  review       1   \n",
       "188068  I've been to Chipotle before many times and kn...  review       0   \n",
       "188069  If I could give this chipotle zero stars I wou...  review       1   \n",
       "188070  I love CHIPOTLE! It's like my favorite fast fo...  review       0   \n",
       "188071  Service is really great here. The lines are lo...  review       1   \n",
       "188072  I am a big fan of chipotle! I always either ge...  review       0   \n",
       "188073  Make sure you check your orders before your le...  review       0   \n",
       "188074  i like getting the 3 taco combo here. the sals...  review       0   \n",
       "188075  It is my first time at this location,  and Jus...  review       0   \n",
       "188076  This is my go-to Chipotle since I work really ...  review       0   \n",
       "188077  Clear from the reviews that this is the \"UNLV\"...  review       0   \n",
       "188078  As chains go, I have to give this location a s...  review       0   \n",
       "188079  This place is alright. Katsu used to be the fi...  review       1   \n",
       "188080  Used to be a good place . I gave them a couple...  review       0   \n",
       "188081  Nice. relaxing atmosphere.  There are some boo...  review       0   \n",
       "188082  my 15 year old son and i went for an ayce lunc...  review       0   \n",
       "188083  What can I say? All you can eat for around $20...  review       0   \n",
       "188084  Is this the best sushi in Toronto?  No.  But t...  review       2   \n",
       "188085  I came here because the price seemed to good t...  review       0   \n",
       "188086  Heres the thing, Katsu has a small AYCE sushi ...  review       1   \n",
       "188087  Popped in for dinner last night.\\nI was a litt...  review       0   \n",
       "188088  So I read all of these reviews on Katsu before...  review       0   \n",
       "188089  Good for late night sushi since they are open ...  review       0   \n",
       "188090  I had AYCE here. The prices were incorrect on ...  review       0   \n",
       "188091  Last night while shopping on the Danforth we s...  review       0   \n",
       "188092  Yesterday, I went there for the first time. Be...  review       0   \n",
       "188093  It's a mix. We had the all you can eat on a Fr...  review       0   \n",
       "188094  The last time I went here (a few years ago) a ...  review       6   \n",
       "188095  I love katsu! Great food, & prices... I usuall...  review       0   \n",
       "\n",
       "                       user_id  \n",
       "0       bQ7fQq1otn9hKX-gXRsrgA  \n",
       "1       aW3ix1KNZAvoM8q-WghA3Q  \n",
       "2       bgl3j8yJcRO-00NkUYsXGQ  \n",
       "3       GJ7PTY7huYORFKKg3db3Gw  \n",
       "4       UU0nHQtHPMAfLidk8tOHTg  \n",
       "5       OvD92wp0-uuFoGLBymwfKQ  \n",
       "6       AziQIgYIAY6uVw1k8sbtTw  \n",
       "7       wnzfuir72IZFg5RAPOwWCQ  \n",
       "8       oKZiDLm0D1PIm1-vRtvONA  \n",
       "9       jhhHm3Vk9ZlP21WdY_5R0w  \n",
       "10      B7ecAeAIrXg7sgmabS38pg  \n",
       "11      je5k8a3qIOM0VJE5MaxsfQ  \n",
       "12      yt1VnahG-MRgU6tswWaUxA  \n",
       "13      29rUYREQxeFE6LWGnirgew  \n",
       "14      hMZ3_yBErMi-pFcquyLJWg  \n",
       "15      PmgqNO0-5Y3e3UoR61TD7w  \n",
       "16      SYKPwRhnlKrW6yTvm7oPWg  \n",
       "17      iSdSNh1hjdE33LOwrFnFrg  \n",
       "18      Zmp1Q6Ul9VH3zL02Z5ls_A  \n",
       "19      i8hCMZN-0bHENsHZKHpC-g  \n",
       "20      W4cfK8SxPloWtIXl3JST2g  \n",
       "21      ub50UE95-gu7yIoed1zssA  \n",
       "22      RlpkcJqctkKXl-LO1IAtig  \n",
       "23      1-xPzJk_ijBvY2J8Re1DIQ  \n",
       "24      bZBPVRIGQZ0WXRYLtYXbYQ  \n",
       "25      BRO98wNeY2Q_BZX8G-iVvg  \n",
       "26      7phnWalwWR0LcV-4xGGFgg  \n",
       "27      cPifBB7Qbjs9PntPGOY9iQ  \n",
       "28      GDeoUHALgyqK13ewN92Jnw  \n",
       "29      GABWrw5Et9jubriKwMUDbw  \n",
       "...                        ...  \n",
       "188066  n4P8tLvD1ppd1m5SI242TQ  \n",
       "188067  ekJB1OVvPchp95zCRB9G9w  \n",
       "188068  r4ieiOnj62KYwxD_KVWGXQ  \n",
       "188069  yqwsHkPNxwlq9-k1sJ6evg  \n",
       "188070  0guV-tXB82pi2stV7a5g5Q  \n",
       "188071  JMU4hmWtKJ_fYnDgS_RFag  \n",
       "188072  RD7-9IV8U5SVJhq8ddWY0g  \n",
       "188073  zTWkc18iRu1TG9dap8q2CQ  \n",
       "188074  SssXdhbeYJOCF6sfSFwC-Q  \n",
       "188075  fwxXAOGEgn-U2qTUPWc00A  \n",
       "188076  9u9fQhq0hynxjLQgZGpmSA  \n",
       "188077  dLuNvprTH04p6ZNCyjIq9g  \n",
       "188078  v2C4S11PHzLEXKeF5kvTJA  \n",
       "188079  LaO4FZ2yPbqRjlv6QoaUJQ  \n",
       "188080  fWlw_D7S5ug0-nlLSuDDNA  \n",
       "188081  nX4_7OOjbvhj7Qv62fr-mg  \n",
       "188082  4xMo2X2nEzPmlNMvhdtrKg  \n",
       "188083  AAjwOr0Ibj1fr6Vw3xz2Xg  \n",
       "188084  OaXoIA1p-6a6AOmBX-fKsw  \n",
       "188085  fnRRMYKc2Lw_a3ayS4t7Cw  \n",
       "188086  RYmEkQhgBqP1Hmkl3h-cyw  \n",
       "188087  -9SoHrhiiUVmx6-MkyR4RA  \n",
       "188088  b9EOHQgkDuWP8WrM3cBzbw  \n",
       "188089  S4j7p_W8pmDigNjyv-EEJA  \n",
       "188090  JllUxfQd-UvkjQmeScOzAQ  \n",
       "188091  FvbGyxLS58q9ezyNdjzxqw  \n",
       "188092  1ickSuyOWWKWdQpauKmkEw  \n",
       "188093  6H_tP23-L2zvC58qW7qojw  \n",
       "188094  N0qq4upibIRvLzE2SzVPtQ  \n",
       "188095  2nmA1nvnVxYN6JmeZwav_Q  \n",
       "\n",
       "[188096 rows x 10 columns]"
      ]
     },
     "execution_count": 3,
     "metadata": {},
     "output_type": "execute_result"
    }
   ],
   "source": [
    "df"
   ]
  },
  {
   "cell_type": "markdown",
   "metadata": {},
   "source": [
    "## Look Up Business Data Using Yelp API"
   ]
  },
  {
   "cell_type": "code",
   "execution_count": 170,
   "metadata": {
    "collapsed": false
   },
   "outputs": [
    {
     "data": {
      "text/plain": [
       "33288"
      ]
     },
     "execution_count": 170,
     "metadata": {},
     "output_type": "execute_result"
    }
   ],
   "source": [
    "# How many unique Businesses?\n",
    "len(df['business_id'].unique())"
   ]
  },
  {
   "cell_type": "code",
   "execution_count": 38,
   "metadata": {
    "collapsed": false
   },
   "outputs": [],
   "source": [
    "# Initialize the Yelp API\n",
    "yelp_id = \"\"\n",
    "yelp_secret = \"\"\n",
    "\n",
    "with open('data/pvt.csv') as f:\n",
    "    for line in f:\n",
    "        l = line.strip().split(',')\n",
    "        if l[0] == \"yelp_id\":\n",
    "            yelp_id = l[1]\n",
    "        if l[0] == \"yelp_secret\":\n",
    "            yelp_secret = l[1]\n",
    "\n",
    "yelp_api = YelpAPI(yelp_id, yelp_secret)"
   ]
  },
  {
   "cell_type": "code",
   "execution_count": 89,
   "metadata": {
    "collapsed": false
   },
   "outputs": [
    {
     "name": "stdout",
     "output_type": "stream",
     "text": [
      "KuHNBKXBCk3XXNJlZW7jRQ\n",
      "{u'is_claimed': False, u'rating': 3.5, u'is_closed': True, u'review_count': 3, u'name': u'Half Moon Sports Grill', u'transactions': [], u'url': u'https://www.yelp.com/biz/half-moon-sports-grill-tempe?adjust_creative=fb-xs7dYOAKPmOWg2AKm6Q&utm_campaign=yelp_api_v3&utm_medium=api_v3_business_lookup&utm_source=fb-xs7dYOAKPmOWg2AKm6Q', u'price': u'$$$', u'photos': [], u'phone': u'+14804569400', u'image_url': u'', u'coordinates': {u'latitude': 33.348099, u'longitude': -111.943092}, u'display_phone': u'(480) 456-9400', u'id': u'half-moon-sports-grill-tempe', u'categories': [{u'alias': u'tradamerican', u'title': u'American (Traditional)'}, {u'alias': u'amusementparks', u'title': u'Amusement Parks'}], u'location': {u'cross_streets': u'', u'city': u'Tempe', u'display_address': [u'325 W Elliot Rd', u'Ste 104', u'Tempe, AZ 85284'], u'country': u'US', u'address2': u'Ste 104', u'address3': u'', u'state': u'AZ', u'address1': u'325 W Elliot Rd', u'zip_code': u'85284'}}\n"
     ]
    }
   ],
   "source": [
    "# Choose a business and store the response from API\n",
    "bid = df['business_id'].sample(1).iloc[0]\n",
    "response = yelp_api.business_query(id=bid)\n",
    "print bid\n",
    "print response"
   ]
  },
  {
   "cell_type": "code",
   "execution_count": 76,
   "metadata": {
    "collapsed": false
   },
   "outputs": [],
   "source": [
    "# Variables from 'response' that we will need\n",
    "city = response['location']['city']\n",
    "country = response['location']['country']\n",
    "name = response['name']"
   ]
  },
  {
   "cell_type": "code",
   "execution_count": 9,
   "metadata": {
    "collapsed": false
   },
   "outputs": [
    {
     "name": "stdout",
     "output_type": "stream",
     "text": [
      "Mississauga\n",
      "CA\n",
      "Cyclepath Mississauga\n"
     ]
    }
   ],
   "source": [
    "print(city)\n",
    "print(country)\n",
    "print(name)"
   ]
  },
  {
   "cell_type": "markdown",
   "metadata": {},
   "source": [
    "## Sentiment Analysis"
   ]
  },
  {
   "cell_type": "code",
   "execution_count": 25,
   "metadata": {
    "collapsed": false
   },
   "outputs": [],
   "source": [
    "# Conduct sentiment analysis on reviews\n",
    "sentiments = [TextBlob(i).sentiment for i in df['text']]"
   ]
  },
  {
   "cell_type": "code",
   "execution_count": 26,
   "metadata": {
    "collapsed": false
   },
   "outputs": [],
   "source": [
    "# Add columns for polarity and subjectivity ranking\n",
    "df['polarity'] = [i[0] for i in sentiments]\n",
    "df['subjectivity'] = [i[1] for i in sentiments]"
   ]
  },
  {
   "cell_type": "code",
   "execution_count": 27,
   "metadata": {
    "collapsed": false
   },
   "outputs": [],
   "source": [
    "# Add column for review wordcount\n",
    "df['wc'] = [len(x.split()) for x in df['text']]"
   ]
  },
  {
   "cell_type": "code",
   "execution_count": 28,
   "metadata": {
    "collapsed": false
   },
   "outputs": [
    {
     "data": {
      "text/plain": [
       "business_id                                3GvyxZvtRe_dwIgHl4rKkw\n",
       "cool                                                            0\n",
       "date                                                   2013-01-03\n",
       "funny                                                           1\n",
       "review_id                                  J_5asg4U29UvtydGHOzHdA\n",
       "stars                                                           1\n",
       "text            Terrible service, no selection... I went to tr...\n",
       "type                                                       review\n",
       "useful                                                          0\n",
       "user_id                                    rTIVsxvTEm5b94C2th5xQQ\n",
       "polarity                                                       -1\n",
       "subjectivity                                                    1\n",
       "wc                                                             22\n",
       "Name: 6047, dtype: object"
      ]
     },
     "execution_count": 28,
     "metadata": {},
     "output_type": "execute_result"
    }
   ],
   "source": [
    "df[df['polarity']<-.6].iloc[15]"
   ]
  },
  {
   "cell_type": "markdown",
   "metadata": {
    "collapsed": true
   },
   "source": [
    "## NLP Model\n",
    "### Riffle Model (Favorable vs Unfavorable)"
   ]
  },
  {
   "cell_type": "code",
   "execution_count": 4,
   "metadata": {
    "collapsed": false
   },
   "outputs": [],
   "source": [
    "# We will only look at 5 star or 1 start reviews for training the model\n",
    "# This implies that all 5 star reviews are definitely \"favorable\",\n",
    "#  while 1 star reviews are definitely \"unfavorable\"\n",
    "df_stars = df[(df['stars'] == 5) | (df['stars'] == 1)][['text', 'stars']]"
   ]
  },
  {
   "cell_type": "code",
   "execution_count": 5,
   "metadata": {
    "collapsed": false
   },
   "outputs": [
    {
     "name": "stdout",
     "output_type": "stream",
     "text": [
      "74856\n",
      "26933\n",
      "101789\n"
     ]
    }
   ],
   "source": [
    "# Breakdown of counts in the new DataFrame\n",
    "print (df_stars['stars'] == 5).sum()\n",
    "print (df_stars['stars'] == 1).sum()\n",
    "print df_stars['stars'].count()"
   ]
  },
  {
   "cell_type": "code",
   "execution_count": 6,
   "metadata": {
    "collapsed": false
   },
   "outputs": [],
   "source": [
    "# Binarize the star rankings (1 = Favorable, 0 = Unfavorable)\n",
    "df_stars['stars'] = df_stars['stars'].map(lambda x: 1 if x == 5 else 0)"
   ]
  },
  {
   "cell_type": "code",
   "execution_count": 7,
   "metadata": {
    "collapsed": false
   },
   "outputs": [],
   "source": [
    "# Renumber the index\n",
    "df_stars.index = range(len(df_stars))"
   ]
  },
  {
   "cell_type": "markdown",
   "metadata": {},
   "source": [
    "### TFIDF Vectorizer"
   ]
  },
  {
   "cell_type": "code",
   "execution_count": 8,
   "metadata": {
    "collapsed": false
   },
   "outputs": [
    {
     "data": {
      "text/plain": [
       "TfidfVectorizer(analyzer=u'word', binary=False, decode_error=u'strict',\n",
       "        dtype=<type 'numpy.int64'>, encoding=u'utf-8', input=u'content',\n",
       "        lowercase=True, max_df=1.0, max_features=None, min_df=0.005,\n",
       "        ngram_range=(1, 3), norm=u'l2', preprocessor=None, smooth_idf=True,\n",
       "        stop_words=None, strip_accents='unicode', sublinear_tf=False,\n",
       "        token_pattern=u'(?u)\\\\b\\\\w\\\\w+\\\\b', tokenizer=None, use_idf=True,\n",
       "        vocabulary=None)"
      ]
     },
     "execution_count": 8,
     "metadata": {},
     "output_type": "execute_result"
    }
   ],
   "source": [
    "# Create our TFIDF Vectorizer which will be used to\n",
    "#  rank the importance of words for our classifier\n",
    "vectorizer = sklearn.feature_extraction.text.TfidfVectorizer(ngram_range=(1,3), strip_accents='unicode', min_df=.005)\n",
    "vectorizer.fit(df_stars['text'])"
   ]
  },
  {
   "cell_type": "code",
   "execution_count": 9,
   "metadata": {
    "collapsed": false
   },
   "outputs": [],
   "source": [
    "# Transform our sample of reviews into a TFIDF vector\n",
    "reviews_tfidf = vectorizer.transform(df_stars['text'])"
   ]
  },
  {
   "cell_type": "code",
   "execution_count": 10,
   "metadata": {
    "collapsed": false
   },
   "outputs": [
    {
     "data": {
      "text/plain": [
       "<101789x3842 sparse matrix of type '<type 'numpy.float64'>'\n",
       "\twith 8722574 stored elements in Compressed Sparse Row format>"
      ]
     },
     "execution_count": 10,
     "metadata": {},
     "output_type": "execute_result"
    }
   ],
   "source": [
    "# What are the details of our sparse matrix?\n",
    "reviews_tfidf"
   ]
  },
  {
   "cell_type": "code",
   "execution_count": null,
   "metadata": {
    "collapsed": false
   },
   "outputs": [],
   "source": [
    "# Convert tfidf matrix to DataFrame - This could overload the memory\n",
    "# reviews_tfidf_arr = reviews_tfidf.toarray()\n",
    "# reviews_tfidf_df = pd.DataFrame(reviews_tfidf_arr, columns=vectorizer.get_feature_names())"
   ]
  },
  {
   "cell_type": "code",
   "execution_count": null,
   "metadata": {
    "collapsed": false
   },
   "outputs": [],
   "source": [
    "# reviews_tfidf_df"
   ]
  },
  {
   "cell_type": "markdown",
   "metadata": {},
   "source": [
    "### XGBoost"
   ]
  },
  {
   "cell_type": "code",
   "execution_count": 11,
   "metadata": {
    "collapsed": true
   },
   "outputs": [],
   "source": [
    "# Split sample into Train and Test sets for cross validation\n",
    "X_train, X_test, y_train, y_test = sklearn.cross_validation.train_test_split(reviews_tfidf, df_stars['stars'], test_size=0.3, stratify=df_stars['stars'])"
   ]
  },
  {
   "cell_type": "code",
   "execution_count": 14,
   "metadata": {
    "collapsed": false
   },
   "outputs": [],
   "source": [
    "# XGBoost Classifier\n",
    "dtrain = xgb.DMatrix(X_train, y_train)\n",
    "dtest = xgb.DMatrix(X_test)\n",
    "param = {'eta':1, 'silent':1, 'objective':'binary:logistic', 'scale_pos_weight': 0.3}\n",
    "num_round = 50\n",
    "bst = xgb.train(param, dtrain, num_round)"
   ]
  },
  {
   "cell_type": "code",
   "execution_count": 44,
   "metadata": {
    "collapsed": false
   },
   "outputs": [],
   "source": [
    "# XGBoost predictor\n",
    "xg_prob = bst.predict(dtest)\n",
    "xg_pred = 1*(xg_prob > 0.5)"
   ]
  },
  {
   "cell_type": "code",
   "execution_count": 45,
   "metadata": {
    "collapsed": false
   },
   "outputs": [
    {
     "name": "stdout",
     "output_type": "stream",
     "text": [
      "f1: 0.95909451047\n",
      "recall: 0.943313888765\n",
      "precision: 0.975412100562\n",
      "accuracy: 0.940825883355\n"
     ]
    }
   ],
   "source": [
    "# XGBoost Model Performance Metrics\n",
    "print \"f1:\", sklearn.metrics.f1_score(y_test, xg_pred)\n",
    "print \"recall:\", sklearn.metrics.recall_score(y_test, xg_pred)\n",
    "print \"precision:\", sklearn.metrics.precision_score(y_test, xg_pred)\n",
    "print \"accuracy:\", sklearn.metrics.accuracy_score(y_test, xg_pred)"
   ]
  },
  {
   "cell_type": "code",
   "execution_count": 68,
   "metadata": {
    "collapsed": true
   },
   "outputs": [],
   "source": [
    "# Train an XGBoost model on the entire dataset\n",
    "dtrain = xgb.DMatrix(reviews_tfidf, df_stars['stars'])\n",
    "param = {'eta':1, 'silent':1, 'objective':'binary:logistic', 'scale_pos_weight': 0.3}\n",
    "num_round = 50\n",
    "bst = xgb.train(param, dtrain, num_round)"
   ]
  },
  {
   "cell_type": "markdown",
   "metadata": {},
   "source": [
    "### Multinomial Naive Bayes"
   ]
  },
  {
   "cell_type": "code",
   "execution_count": 19,
   "metadata": {
    "collapsed": false
   },
   "outputs": [
    {
     "name": "stdout",
     "output_type": "stream",
     "text": [
      "[ 0.95668444  0.95578403]\n",
      "1 loop, best of 1: 408 ms per loop\n"
     ]
    }
   ],
   "source": [
    "%%timeit -n1 -r1\n",
    "# Multinomial Naive Bayes Cross Validaton on F1 Score\n",
    "nb = sklearn.naive_bayes.MultinomialNB()\n",
    "nb_acc = sklearn.cross_validation.cross_val_score(nb, X_train, y_train, cv=2, scoring='f1')\n",
    "print(nb_acc)"
   ]
  },
  {
   "cell_type": "code",
   "execution_count": 20,
   "metadata": {
    "collapsed": true
   },
   "outputs": [],
   "source": [
    "# Naive Bayes Train Test Split\n",
    "nb = sklearn.naive_bayes.MultinomialNB()\n",
    "nb.fit(X_train, y_train)\n",
    "nb_pred = nb.predict(X_test)"
   ]
  },
  {
   "cell_type": "code",
   "execution_count": 21,
   "metadata": {
    "collapsed": false
   },
   "outputs": [
    {
     "name": "stdout",
     "output_type": "stream",
     "text": [
      "f1: 0.957492842625\n",
      "recall: 0.97546422051\n",
      "precision: 0.94017167382\n",
      "accuracy: 0.936306775387\n"
     ]
    }
   ],
   "source": [
    "# Evaluate performance metrics of train-test split\n",
    "print \"f1:\", sklearn.metrics.f1_score(y_test, nb_pred)\n",
    "print \"recall:\", sklearn.metrics.recall_score(y_test, nb_pred)\n",
    "print \"precision:\", sklearn.metrics.precision_score(y_test, nb_pred)\n",
    "print \"accuracy:\", sklearn.metrics.accuracy_score(y_test, nb_pred)"
   ]
  },
  {
   "cell_type": "code",
   "execution_count": 55,
   "metadata": {
    "collapsed": false
   },
   "outputs": [
    {
     "data": {
      "text/plain": [
       "MultinomialNB(alpha=1.0, class_prior=None, fit_prior=True)"
      ]
     },
     "execution_count": 55,
     "metadata": {},
     "output_type": "execute_result"
    }
   ],
   "source": [
    "# Train a Naive Bayes model on the entire dataset\n",
    "nb = sklearn.naive_bayes.MultinomialNB()\n",
    "nb.fit(reviews_tfidf, df_stars['stars'])"
   ]
  },
  {
   "cell_type": "code",
   "execution_count": null,
   "metadata": {
    "collapsed": true
   },
   "outputs": [],
   "source": [
    "### Random Forests"
   ]
  },
  {
   "cell_type": "code",
   "execution_count": null,
   "metadata": {
    "collapsed": true
   },
   "outputs": [],
   "source": [
    "%%timeit -n1 -r1\n",
    "# Random Forests Cross Validaton on F1 Score\n",
    "forest = RandomForestClassifier()\n",
    "forest_acc = sklearn.cross_validation.cross_val_score(forest, X_train, y_train, cv=2, scoring='f1')\n",
    "print(forest_acc)"
   ]
  },
  {
   "cell_type": "code",
   "execution_count": 70,
   "metadata": {
    "collapsed": true
   },
   "outputs": [],
   "source": [
    "# Random Forests Train Test Split\n",
    "forest = RandomForestClassifier(class_weight={0:3}, n_estimators=50)\n",
    "forest.fit(X_train, y_train)\n",
    "for_pred = forest.predict(X_test)"
   ]
  },
  {
   "cell_type": "code",
   "execution_count": 71,
   "metadata": {
    "collapsed": false
   },
   "outputs": [
    {
     "name": "stdout",
     "output_type": "stream",
     "text": [
      "f1: 0.957609147155\n",
      "recall: 0.975241572784\n",
      "precision: 0.940602989177\n",
      "accuracy: 0.936503258342\n"
     ]
    }
   ],
   "source": [
    "# Evaluate performance metrics of train-test split\n",
    "print \"f1:\", sklearn.metrics.f1_score(y_test, for_pred)\n",
    "print \"recall:\", sklearn.metrics.recall_score(y_test, for_pred)\n",
    "print \"precision:\", sklearn.metrics.precision_score(y_test, for_pred)\n",
    "print \"accuracy:\", sklearn.metrics.accuracy_score(for_pred, y_test)"
   ]
  },
  {
   "cell_type": "code",
   "execution_count": 72,
   "metadata": {
    "collapsed": true
   },
   "outputs": [],
   "source": [
    "# Evaluate RF performance metrics using a probability threshold\n",
    "for_probs = forest.predict_proba(X_test)"
   ]
  },
  {
   "cell_type": "code",
   "execution_count": 73,
   "metadata": {
    "collapsed": true
   },
   "outputs": [],
   "source": [
    "for_predprobs = 1*(for_probs > .6)[:,1]"
   ]
  },
  {
   "cell_type": "code",
   "execution_count": 74,
   "metadata": {
    "collapsed": false
   },
   "outputs": [
    {
     "name": "stdout",
     "output_type": "stream",
     "text": [
      "f1: 0.956018466389\n",
      "recall: 0.94518412967\n",
      "precision: 0.967104064152\n",
      "accuracy: 0.936044798114\n"
     ]
    }
   ],
   "source": [
    "print \"f1:\", sklearn.metrics.f1_score(y_test, for_predprobs)\n",
    "print \"recall:\", sklearn.metrics.recall_score(y_test, for_predprobs)\n",
    "print \"precision:\", sklearn.metrics.precision_score(y_test, for_predprobs)\n",
    "print \"accuracy:\", sklearn.metrics.accuracy_score(y_test, for_predprobs)"
   ]
  },
  {
   "cell_type": "code",
   "execution_count": 75,
   "metadata": {
    "collapsed": false
   },
   "outputs": [
    {
     "data": {
      "text/plain": [
       "RandomForestClassifier(bootstrap=True, class_weight={0: 3}, criterion='gini',\n",
       "            max_depth=None, max_features='auto', max_leaf_nodes=None,\n",
       "            min_impurity_split=1e-07, min_samples_leaf=1,\n",
       "            min_samples_split=2, min_weight_fraction_leaf=0.0,\n",
       "            n_estimators=50, n_jobs=1, oob_score=False, random_state=None,\n",
       "            verbose=0, warm_start=False)"
      ]
     },
     "execution_count": 75,
     "metadata": {},
     "output_type": "execute_result"
    }
   ],
   "source": [
    "# Train a Random Forests model on the entire dataset\n",
    "forest = RandomForestClassifier(class_weight={0:3}, n_estimators=50)\n",
    "forest.fit(reviews_tfidf, df_stars['stars'])"
   ]
  },
  {
   "cell_type": "markdown",
   "metadata": {},
   "source": [
    "### Dummy Classifier"
   ]
  },
  {
   "cell_type": "code",
   "execution_count": 76,
   "metadata": {
    "collapsed": false
   },
   "outputs": [
    {
     "name": "stdout",
     "output_type": "stream",
     "text": [
      "f1: 0.847529909046\n",
      "recall: 1.0\n",
      "precision: 0.735402953794\n",
      "accuracy: 0.735402953794\n"
     ]
    }
   ],
   "source": [
    "# Dummy Classifier\n",
    "dummy = [1 for x in range(len(y_test))]\n",
    "print \"f1:\", sklearn.metrics.f1_score(y_test, dummy)\n",
    "print \"recall:\", sklearn.metrics.recall_score(y_test, dummy)\n",
    "print \"precision:\", sklearn.metrics.precision_score(y_test, dummy)\n",
    "print \"accuracy:\", sklearn.metrics.accuracy_score(y_test, dummy)"
   ]
  },
  {
   "cell_type": "markdown",
   "metadata": {},
   "source": [
    "## Save the Models"
   ]
  },
  {
   "cell_type": "code",
   "execution_count": 12,
   "metadata": {
    "collapsed": true
   },
   "outputs": [],
   "source": [
    "# Pickle the TFIDF Vectorizer\n",
    "with open('model/vectorizer_200k_eng.pkl', 'wb') as f:\n",
    "    pickle.dump(vectorizer, f, protocol=pickle.HIGHEST_PROTOCOL)"
   ]
  },
  {
   "cell_type": "code",
   "execution_count": 69,
   "metadata": {
    "collapsed": true
   },
   "outputs": [],
   "source": [
    "# Save the XGBoost model\n",
    "bst.save_model('model/bst_200k.model')"
   ]
  },
  {
   "cell_type": "code",
   "execution_count": 77,
   "metadata": {
    "collapsed": true
   },
   "outputs": [],
   "source": [
    "# Pickle the Naive Bayes model\n",
    "with open('model/nb_200k_eng.pkl', 'wb') as f:\n",
    "    pickle.dump(nb, f, protocol=pickle.HIGHEST_PROTOCOL)"
   ]
  },
  {
   "cell_type": "code",
   "execution_count": 78,
   "metadata": {
    "collapsed": true
   },
   "outputs": [],
   "source": [
    "# Pickle the Random Forests model\n",
    "with open('model/forest_200k_eng.pkl', 'wb') as f:\n",
    "    pickle.dump(forest, f, protocol=pickle.HIGHEST_PROTOCOL)"
   ]
  },
  {
   "cell_type": "markdown",
   "metadata": {},
   "source": [
    "## Load the Models"
   ]
  },
  {
   "cell_type": "code",
   "execution_count": 3,
   "metadata": {
    "collapsed": true
   },
   "outputs": [],
   "source": [
    "# Load the TFIDF Vectorizer\n",
    "with open('model/vectorizer_200k_eng.pkl', 'rb') as f:\n",
    "    vectorizer = pickle.load(f)"
   ]
  },
  {
   "cell_type": "code",
   "execution_count": 4,
   "metadata": {
    "collapsed": true
   },
   "outputs": [],
   "source": [
    "# Load the XGBoost Model\n",
    "bst = xgb.Booster({'nthread':4})\n",
    "bst.load_model('model/bst_200k.model')"
   ]
  },
  {
   "cell_type": "code",
   "execution_count": null,
   "metadata": {
    "collapsed": true
   },
   "outputs": [],
   "source": [
    "# Load the Random Forests Model\n",
    "with open('model/nb_200k_eng.pkl', 'rb') as f:\n",
    "    nb = pickle.load(f)"
   ]
  },
  {
   "cell_type": "code",
   "execution_count": 3,
   "metadata": {
    "collapsed": false
   },
   "outputs": [],
   "source": [
    "# Load the Random Forests Model\n",
    "with open('model/forest_200k_eng.pkl', 'rb') as f:\n",
    "    forest = pickle.load(f)"
   ]
  },
  {
   "cell_type": "markdown",
   "metadata": {},
   "source": [
    "## NLP Model\n",
    "### Reviews Weighted for Helpfulness"
   ]
  },
  {
   "cell_type": "code",
   "execution_count": 29,
   "metadata": {
    "collapsed": false
   },
   "outputs": [
    {
     "name": "stderr",
     "output_type": "stream",
     "text": [
      "/anaconda/lib/python2.7/site-packages/ipykernel/__main__.py:4: SettingWithCopyWarning: \n",
      "A value is trying to be set on a copy of a slice from a DataFrame.\n",
      "Try using .loc[row_indexer,col_indexer] = value instead\n",
      "\n",
      "See the caveats in the documentation: http://pandas.pydata.org/pandas-docs/stable/indexing.html#indexing-view-versus-copy\n"
     ]
    }
   ],
   "source": [
    "# Create weighted DataFrame which will be used for Helpfulness model\n",
    "# Binarize \"Helpful\" column\n",
    "df_weighted = df[['useful', 'polarity', 'subjectivity', 'wc', 'text']]\n",
    "df_weighted['useful'] = [1 if x >= 2 else 0 for x in df['useful']]"
   ]
  },
  {
   "cell_type": "code",
   "execution_count": 30,
   "metadata": {
    "collapsed": false
   },
   "outputs": [
    {
     "data": {
      "text/plain": [
       "0.2130667318815924"
      ]
     },
     "execution_count": 30,
     "metadata": {},
     "output_type": "execute_result"
    }
   ],
   "source": [
    "# See the percentage of \"Useful\" reviews\n",
    "float(sum(df_weighted['useful']))/len(df_weighted['useful'])"
   ]
  },
  {
   "cell_type": "code",
   "execution_count": 31,
   "metadata": {
    "collapsed": false
   },
   "outputs": [
    {
     "data": {
      "text/plain": [
       "TfidfVectorizer(analyzer=u'word', binary=False, decode_error=u'strict',\n",
       "        dtype=<type 'numpy.int64'>, encoding=u'utf-8', input=u'content',\n",
       "        lowercase=True, max_df=1.0, max_features=None, min_df=0.005,\n",
       "        ngram_range=(1, 3), norm=u'l2', preprocessor=None, smooth_idf=True,\n",
       "        stop_words=None, strip_accents='unicode', sublinear_tf=False,\n",
       "        token_pattern=u'(?u)\\\\b\\\\w\\\\w+\\\\b', tokenizer=None, use_idf=True,\n",
       "        vocabulary=None)"
      ]
     },
     "execution_count": 31,
     "metadata": {},
     "output_type": "execute_result"
    }
   ],
   "source": [
    "# Create our TFIDF Vectorizer which will be used to\n",
    "#  rank the importance of words for our classifier\n",
    "useful_vectorizer = sklearn.feature_extraction.text.TfidfVectorizer(ngram_range=(1,3), strip_accents='unicode', min_df=.005)\n",
    "useful_vectorizer.fit(df_weighted['text'])"
   ]
  },
  {
   "cell_type": "code",
   "execution_count": 32,
   "metadata": {
    "collapsed": true
   },
   "outputs": [],
   "source": [
    "# Transform our sample of reviews into a TFIDF vector\n",
    "useful_tfidf = vectorizer.transform(df_weighted['text'])"
   ]
  },
  {
   "cell_type": "code",
   "execution_count": 33,
   "metadata": {
    "collapsed": true
   },
   "outputs": [],
   "source": [
    "useful_X = df_weighted[['polarity', 'subjectivity', 'wc']]\n",
    "useful_y = df_weighted['useful']"
   ]
  },
  {
   "cell_type": "code",
   "execution_count": 34,
   "metadata": {
    "collapsed": false
   },
   "outputs": [],
   "source": [
    "# Split sample into Train and Test sets for cross validation\n",
    "# I tried this with TFIDF vector and Polarity/Subjectivity/WordCounts as the features\n",
    "useful_X_train, useful_X_test, useful_y_train, useful_y_test = sklearn.cross_validation.train_test_split(useful_tfidf, useful_y, test_size=0.3, stratify=useful_y)"
   ]
  },
  {
   "cell_type": "code",
   "execution_count": 38,
   "metadata": {
    "collapsed": false
   },
   "outputs": [],
   "source": [
    "# XGBoost Classifier\n",
    "useful_dtrain = xgb.DMatrix(useful_X_train, useful_y_train)\n",
    "useful_dtest = xgb.DMatrix(useful_X_test)\n",
    "param = {'eta':1, 'silent':1, 'objective':'binary:logistic', 'scale_pos_weight': 0.2}\n",
    "num_round = 25\n",
    "useful_bst = xgb.train(param, useful_dtrain, num_round)"
   ]
  },
  {
   "cell_type": "code",
   "execution_count": 41,
   "metadata": {
    "collapsed": true
   },
   "outputs": [],
   "source": [
    "# XGBoost predictor\n",
    "useful_xg_prob = useful_bst.predict(useful_dtest)\n",
    "useful_xg_pred = 1*(useful_xg_prob > 0.5)"
   ]
  },
  {
   "cell_type": "code",
   "execution_count": 42,
   "metadata": {
    "collapsed": false
   },
   "outputs": [
    {
     "name": "stdout",
     "output_type": "stream",
     "text": [
      "f1: 0.0836003051106\n",
      "recall: 0.0455793063295\n",
      "precision: 0.504139834407\n",
      "accuracy: 0.787095287884\n"
     ]
    }
   ],
   "source": [
    "# XGBoost Model Performance Metrics\n",
    "print \"f1:\", sklearn.metrics.f1_score(useful_y_test, useful_xg_pred)\n",
    "print \"recall:\", sklearn.metrics.recall_score(useful_y_test, useful_xg_pred)\n",
    "print \"precision:\", sklearn.metrics.precision_score(useful_y_test, useful_xg_pred)\n",
    "print \"accuracy:\", sklearn.metrics.accuracy_score(useful_y_test, useful_xg_pred)"
   ]
  },
  {
   "cell_type": "markdown",
   "metadata": {},
   "source": [
    "### Yeah... That doesn't really work..."
   ]
  },
  {
   "cell_type": "markdown",
   "metadata": {},
   "source": [
    "## Riffle Model Testing"
   ]
  },
  {
   "cell_type": "code",
   "execution_count": 12,
   "metadata": {
    "collapsed": false
   },
   "outputs": [
    {
     "name": "stdout",
     "output_type": "stream",
     "text": [
      "[ 0.56743968]\n"
     ]
    }
   ],
   "source": [
    "# Test the model on manually typed text\n",
    "vec = vectorizer.transform([\"The food was great. Service was nice. Did not like appetizer. Hated oysters. Bad experience\"])\n",
    "man_dtest = xgb.DMatrix(vec)\n",
    "print bst.predict(man_dtest)\n",
    "# print nb.predict(vec)\n",
    "# print bst.predict(man_dtest)"
   ]
  },
  {
   "cell_type": "code",
   "execution_count": 47,
   "metadata": {
    "collapsed": false
   },
   "outputs": [
    {
     "data": {
      "text/plain": [
       "<1x3842 sparse matrix of type '<type 'numpy.float64'>'\n",
       "\twith 36 stored elements in Compressed Sparse Row format>"
      ]
     },
     "execution_count": 47,
     "metadata": {},
     "output_type": "execute_result"
    }
   ],
   "source": [
    "vec"
   ]
  },
  {
   "cell_type": "markdown",
   "metadata": {},
   "source": [
    "### Test the model on a new out of sample test set"
   ]
  },
  {
   "cell_type": "code",
   "execution_count": 60,
   "metadata": {
    "collapsed": true
   },
   "outputs": [
    {
     "ename": "LangDetectException",
     "evalue": "No features in text.",
     "output_type": "error",
     "traceback": [
      "\u001b[0;31m---------------------------------------------------------------------------\u001b[0m",
      "\u001b[0;31mLangDetectException\u001b[0m                       Traceback (most recent call last)",
      "\u001b[0;32m<ipython-input-60-6ce4f438dd10>\u001b[0m in \u001b[0;36m<module>\u001b[0;34m()\u001b[0m\n\u001b[1;32m      7\u001b[0m             \u001b[0;32mcontinue\u001b[0m\u001b[0;34m\u001b[0m\u001b[0m\n\u001b[1;32m      8\u001b[0m         \u001b[0;32melse\u001b[0m\u001b[0;34m:\u001b[0m\u001b[0;34m\u001b[0m\u001b[0m\n\u001b[0;32m----> 9\u001b[0;31m             \u001b[0;32mif\u001b[0m \u001b[0mdetect\u001b[0m\u001b[0;34m(\u001b[0m\u001b[0mjson\u001b[0m\u001b[0;34m.\u001b[0m\u001b[0mloads\u001b[0m\u001b[0;34m(\u001b[0m\u001b[0mline\u001b[0m\u001b[0;34m)\u001b[0m\u001b[0;34m[\u001b[0m\u001b[0;34m'text'\u001b[0m\u001b[0;34m]\u001b[0m\u001b[0;34m)\u001b[0m\u001b[0;34m==\u001b[0m\u001b[0;34m\"en\"\u001b[0m\u001b[0;34m:\u001b[0m\u001b[0;34m\u001b[0m\u001b[0m\n\u001b[0m\u001b[1;32m     10\u001b[0m                 \u001b[0md_test\u001b[0m\u001b[0;34m.\u001b[0m\u001b[0mappend\u001b[0m\u001b[0;34m(\u001b[0m\u001b[0mjson\u001b[0m\u001b[0;34m.\u001b[0m\u001b[0mloads\u001b[0m\u001b[0;34m(\u001b[0m\u001b[0mline\u001b[0m\u001b[0;34m)\u001b[0m\u001b[0;34m)\u001b[0m\u001b[0;34m\u001b[0m\u001b[0m\n",
      "\u001b[0;32m//anaconda/lib/python2.7/site-packages/langdetect/detector_factory.pyc\u001b[0m in \u001b[0;36mdetect\u001b[0;34m(text)\u001b[0m\n\u001b[1;32m    128\u001b[0m     \u001b[0mdetector\u001b[0m \u001b[0;34m=\u001b[0m \u001b[0m_factory\u001b[0m\u001b[0;34m.\u001b[0m\u001b[0mcreate\u001b[0m\u001b[0;34m(\u001b[0m\u001b[0;34m)\u001b[0m\u001b[0;34m\u001b[0m\u001b[0m\n\u001b[1;32m    129\u001b[0m     \u001b[0mdetector\u001b[0m\u001b[0;34m.\u001b[0m\u001b[0mappend\u001b[0m\u001b[0;34m(\u001b[0m\u001b[0mtext\u001b[0m\u001b[0;34m)\u001b[0m\u001b[0;34m\u001b[0m\u001b[0m\n\u001b[0;32m--> 130\u001b[0;31m     \u001b[0;32mreturn\u001b[0m \u001b[0mdetector\u001b[0m\u001b[0;34m.\u001b[0m\u001b[0mdetect\u001b[0m\u001b[0;34m(\u001b[0m\u001b[0;34m)\u001b[0m\u001b[0;34m\u001b[0m\u001b[0m\n\u001b[0m\u001b[1;32m    131\u001b[0m \u001b[0;34m\u001b[0m\u001b[0m\n\u001b[1;32m    132\u001b[0m \u001b[0;34m\u001b[0m\u001b[0m\n",
      "\u001b[0;32m//anaconda/lib/python2.7/site-packages/langdetect/detector.pyc\u001b[0m in \u001b[0;36mdetect\u001b[0;34m(self)\u001b[0m\n\u001b[1;32m    134\u001b[0m         \u001b[0mwhich\u001b[0m \u001b[0mhas\u001b[0m \u001b[0mthe\u001b[0m \u001b[0mhighest\u001b[0m \u001b[0mprobability\u001b[0m\u001b[0;34m.\u001b[0m\u001b[0;34m\u001b[0m\u001b[0m\n\u001b[1;32m    135\u001b[0m         '''\n\u001b[0;32m--> 136\u001b[0;31m         \u001b[0mprobabilities\u001b[0m \u001b[0;34m=\u001b[0m \u001b[0mself\u001b[0m\u001b[0;34m.\u001b[0m\u001b[0mget_probabilities\u001b[0m\u001b[0;34m(\u001b[0m\u001b[0;34m)\u001b[0m\u001b[0;34m\u001b[0m\u001b[0m\n\u001b[0m\u001b[1;32m    137\u001b[0m         \u001b[0;32mif\u001b[0m \u001b[0mprobabilities\u001b[0m\u001b[0;34m:\u001b[0m\u001b[0;34m\u001b[0m\u001b[0m\n\u001b[1;32m    138\u001b[0m             \u001b[0;32mreturn\u001b[0m \u001b[0mprobabilities\u001b[0m\u001b[0;34m[\u001b[0m\u001b[0;36m0\u001b[0m\u001b[0;34m]\u001b[0m\u001b[0;34m.\u001b[0m\u001b[0mlang\u001b[0m\u001b[0;34m\u001b[0m\u001b[0m\n",
      "\u001b[0;32m//anaconda/lib/python2.7/site-packages/langdetect/detector.pyc\u001b[0m in \u001b[0;36mget_probabilities\u001b[0;34m(self)\u001b[0m\n\u001b[1;32m    141\u001b[0m     \u001b[0;32mdef\u001b[0m \u001b[0mget_probabilities\u001b[0m\u001b[0;34m(\u001b[0m\u001b[0mself\u001b[0m\u001b[0;34m)\u001b[0m\u001b[0;34m:\u001b[0m\u001b[0;34m\u001b[0m\u001b[0m\n\u001b[1;32m    142\u001b[0m         \u001b[0;32mif\u001b[0m \u001b[0mself\u001b[0m\u001b[0;34m.\u001b[0m\u001b[0mlangprob\u001b[0m \u001b[0;32mis\u001b[0m \u001b[0mNone\u001b[0m\u001b[0;34m:\u001b[0m\u001b[0;34m\u001b[0m\u001b[0m\n\u001b[0;32m--> 143\u001b[0;31m             \u001b[0mself\u001b[0m\u001b[0;34m.\u001b[0m\u001b[0m_detect_block\u001b[0m\u001b[0;34m(\u001b[0m\u001b[0;34m)\u001b[0m\u001b[0;34m\u001b[0m\u001b[0m\n\u001b[0m\u001b[1;32m    144\u001b[0m         \u001b[0;32mreturn\u001b[0m \u001b[0mself\u001b[0m\u001b[0;34m.\u001b[0m\u001b[0m_sort_probability\u001b[0m\u001b[0;34m(\u001b[0m\u001b[0mself\u001b[0m\u001b[0;34m.\u001b[0m\u001b[0mlangprob\u001b[0m\u001b[0;34m)\u001b[0m\u001b[0;34m\u001b[0m\u001b[0m\n\u001b[1;32m    145\u001b[0m \u001b[0;34m\u001b[0m\u001b[0m\n",
      "\u001b[0;32m//anaconda/lib/python2.7/site-packages/langdetect/detector.pyc\u001b[0m in \u001b[0;36m_detect_block\u001b[0;34m(self)\u001b[0m\n\u001b[1;32m    148\u001b[0m         \u001b[0mngrams\u001b[0m \u001b[0;34m=\u001b[0m \u001b[0mself\u001b[0m\u001b[0;34m.\u001b[0m\u001b[0m_extract_ngrams\u001b[0m\u001b[0;34m(\u001b[0m\u001b[0;34m)\u001b[0m\u001b[0;34m\u001b[0m\u001b[0m\n\u001b[1;32m    149\u001b[0m         \u001b[0;32mif\u001b[0m \u001b[0;32mnot\u001b[0m \u001b[0mngrams\u001b[0m\u001b[0;34m:\u001b[0m\u001b[0;34m\u001b[0m\u001b[0m\n\u001b[0;32m--> 150\u001b[0;31m             \u001b[0;32mraise\u001b[0m \u001b[0mLangDetectException\u001b[0m\u001b[0;34m(\u001b[0m\u001b[0mErrorCode\u001b[0m\u001b[0;34m.\u001b[0m\u001b[0mCantDetectError\u001b[0m\u001b[0;34m,\u001b[0m \u001b[0;34m'No features in text.'\u001b[0m\u001b[0;34m)\u001b[0m\u001b[0;34m\u001b[0m\u001b[0m\n\u001b[0m\u001b[1;32m    151\u001b[0m \u001b[0;34m\u001b[0m\u001b[0m\n\u001b[1;32m    152\u001b[0m         \u001b[0mself\u001b[0m\u001b[0;34m.\u001b[0m\u001b[0mlangprob\u001b[0m \u001b[0;34m=\u001b[0m \u001b[0;34m[\u001b[0m\u001b[0;36m0.0\u001b[0m\u001b[0;34m]\u001b[0m \u001b[0;34m*\u001b[0m \u001b[0mlen\u001b[0m\u001b[0;34m(\u001b[0m\u001b[0mself\u001b[0m\u001b[0;34m.\u001b[0m\u001b[0mlanglist\u001b[0m\u001b[0;34m)\u001b[0m\u001b[0;34m\u001b[0m\u001b[0m\n",
      "\u001b[0;31mLangDetectException\u001b[0m: No features in text."
     ]
    }
   ],
   "source": [
    "# Load dictionary from Yelp JSON file\n",
    "with codecs.open('data/yelp_academic_dataset_review.json', 'r', encoding='utf-8') as f:\n",
    "    d_test = []\n",
    "    for x in range(250000):\n",
    "        line = f.readline().strip()\n",
    "        if x <= 200000:\n",
    "            continue\n",
    "        else:\n",
    "            if detect(json.loads(line)['text'])==\"en\":\n",
    "                d_test.append(json.loads(line))"
   ]
  },
  {
   "cell_type": "code",
   "execution_count": 64,
   "metadata": {
    "collapsed": true
   },
   "outputs": [],
   "source": [
    "# Create the Pandas DataFrame and preprocess the data\n",
    "df_test = pd.DataFrame(d_test)\n",
    "df_stars_test = df_test[(df_test['stars'] == 5) | (df_test['stars'] == 1)][['text', 'stars']]\n",
    "df_stars_test['stars'] = df_stars_test['stars'].map(lambda x: 1 if x == 5 else 0)"
   ]
  },
  {
   "cell_type": "code",
   "execution_count": 65,
   "metadata": {
    "collapsed": true
   },
   "outputs": [],
   "source": [
    "# Create the test set\n",
    "X_new_test = vectorizer.transform(df_stars_test['text'])\n",
    "y_new_test = df_stars_test['stars']"
   ]
  },
  {
   "cell_type": "code",
   "execution_count": 66,
   "metadata": {
    "collapsed": true
   },
   "outputs": [],
   "source": [
    "# Predict with XGBoost\n",
    "d_new_test = xgb.DMatrix(X_new_test)\n",
    "xg_prob_test = bst.predict(d_new_test)\n",
    "xg_pred_test = 1*(xg_prob_test > 0.5)"
   ]
  },
  {
   "cell_type": "code",
   "execution_count": 67,
   "metadata": {
    "collapsed": false
   },
   "outputs": [
    {
     "name": "stdout",
     "output_type": "stream",
     "text": [
      "f1: 0.97314555323\n",
      "recall: 0.961918788134\n",
      "precision: 0.98463747308\n",
      "accuracy: 0.960141112047\n"
     ]
    }
   ],
   "source": [
    "# Evaluate performance metrics\n",
    "print \"f1:\", sklearn.metrics.f1_score(y_new_test, xg_pred_test)\n",
    "print \"recall:\", sklearn.metrics.recall_score(y_new_test, xg_pred_test)\n",
    "print \"precision:\", sklearn.metrics.precision_score(y_new_test, xg_pred_test)\n",
    "print \"accuracy:\", sklearn.metrics.accuracy_score(y_new_test, xg_pred_test)"
   ]
  }
 ],
 "metadata": {
  "kernelspec": {
   "display_name": "Python [default]",
   "language": "python",
   "name": "python2"
  },
  "language_info": {
   "codemirror_mode": {
    "name": "ipython",
    "version": 2
   },
   "file_extension": ".py",
   "mimetype": "text/x-python",
   "name": "python",
   "nbconvert_exporter": "python",
   "pygments_lexer": "ipython2",
   "version": "2.7.13"
  }
 },
 "nbformat": 4,
 "nbformat_minor": 0
}
